{
 "cells": [
  {
   "cell_type": "markdown",
   "metadata": {},
   "source": [
    "## Отчёты и автоматизация"
   ]
  },
  {
   "cell_type": "markdown",
   "metadata": {},
   "source": [
    "### Задание: сборка PDF документа"
   ]
  },
  {
   "cell_type": "markdown",
   "metadata": {},
   "source": [
    "Используя данные по посещаемости библиотек в районах Москвы\n",
    "\n",
    "https://video.ittensive.com/python-advanced/data-7361-2019-11-28.utf.json\n",
    "\n",
    "постройте круговую диаграмму суммарной посещаемости (NumOfVisitors) 20 наиболее популярных районов Москвы.\n",
    "Создайте PDF отчет, используя файл\n",
    "\n",
    "https://video.ittensive.com/python-advanced/title.pdf\n",
    "\n",
    "как первую страницу. На второй странице выведите итоговую диаграмму, самый популярный район Москвы и число посетителей библиотек в нем.\n",
    "\n",
    "Сколько посетителей библиотек в районе Москвы с самой большой суммарной посещаемостью библиотек?"
   ]
  },
  {
   "cell_type": "markdown",
   "metadata": {},
   "source": [
    "###############################################################################################################################"
   ]
  },
  {
   "cell_type": "markdown",
   "metadata": {},
   "source": [
    "Импортируем необходимые библиотеки."
   ]
  },
  {
   "cell_type": "code",
   "execution_count": 1,
   "metadata": {},
   "outputs": [],
   "source": [
    "import json\n",
    "import pandas as pd\n",
    "import requests\n",
    "from reportlab.pdfgen import canvas\n",
    "from reportlab.lib import pagesizes\n",
    "from reportlab.pdfbase import pdfmetrics\n",
    "from reportlab.pdfbase.ttfonts import TTFont\n",
    "from reportlab.lib.utils import ImageReader\n",
    "import matplotlib.pyplot as plt\n",
    "import seaborn as sns\n",
    "from PyPDF2 import PdfFileMerger, PdfFileReader\n",
    "%matplotlib inline"
   ]
  },
  {
   "cell_type": "markdown",
   "metadata": {},
   "source": [
    "Создаём запрос к json файлу через requests и загружаем данные в датафрейм. Убираем колонку с отсутствующими значениями. Создаём колонку для данных по районам Москвы и инициализируем значения в ней нулями."
   ]
  },
  {
   "cell_type": "code",
   "execution_count": 2,
   "metadata": {},
   "outputs": [
    {
     "data": {
      "text/html": [
       "<div>\n",
       "<style scoped>\n",
       "    .dataframe tbody tr th:only-of-type {\n",
       "        vertical-align: middle;\n",
       "    }\n",
       "\n",
       "    .dataframe tbody tr th {\n",
       "        vertical-align: top;\n",
       "    }\n",
       "\n",
       "    .dataframe thead th {\n",
       "        text-align: right;\n",
       "    }\n",
       "</style>\n",
       "<table border=\"1\" class=\"dataframe\">\n",
       "  <thead>\n",
       "    <tr style=\"text-align: right;\">\n",
       "      <th></th>\n",
       "      <th>global_id</th>\n",
       "      <th>NumOfVisitors</th>\n",
       "      <th>Category</th>\n",
       "      <th>CommonName</th>\n",
       "      <th>FullName</th>\n",
       "      <th>ShortName</th>\n",
       "      <th>ChiefOrg</th>\n",
       "      <th>OrgInfo</th>\n",
       "      <th>ObjectAddress</th>\n",
       "      <th>ChiefName</th>\n",
       "      <th>...</th>\n",
       "      <th>PublicPhone</th>\n",
       "      <th>Fax</th>\n",
       "      <th>Email</th>\n",
       "      <th>WorkingHours</th>\n",
       "      <th>ClarificationOfWorkingHours</th>\n",
       "      <th>WebSite</th>\n",
       "      <th>NumOfSeats</th>\n",
       "      <th>NumOfReaders</th>\n",
       "      <th>geoData</th>\n",
       "      <th>District</th>\n",
       "    </tr>\n",
       "  </thead>\n",
       "  <tbody>\n",
       "    <tr>\n",
       "      <th>0</th>\n",
       "      <td>870507232</td>\n",
       "      <td>588995.0</td>\n",
       "      <td>Библиотека</td>\n",
       "      <td>Библиотека имени Н. А. Некрасова</td>\n",
       "      <td>Государственное бюджетное учреждение культуры ...</td>\n",
       "      <td>ГБУК г. Москвы «Центральная библиотека им. Н.А...</td>\n",
       "      <td>0</td>\n",
       "      <td>[{'OGRN': '1027739406815', 'ChiefName': 'Прива...</td>\n",
       "      <td>[{'PostalCode': '105005', 'District': 'Басманн...</td>\n",
       "      <td>Привалова Мария Александровна</td>\n",
       "      <td>...</td>\n",
       "      <td>[{'PublicPhone': ['(495) 916-90-68']}, {'Publi...</td>\n",
       "      <td>[{'Fax': ['(495) 916-90-68']}]</td>\n",
       "      <td>[{'Email': ['biblioteka@nekrasovka.ru']}]</td>\n",
       "      <td>[{'WorkHours': '10:00-22:00', 'DayWeek': 'поне...</td>\n",
       "      <td>Последний вторник каждого месяца - санитарный ...</td>\n",
       "      <td>nekrasovka.ru</td>\n",
       "      <td>179.0</td>\n",
       "      <td>48776.0</td>\n",
       "      <td>{'type': 'MultiPoint', 'coordinates': [[37.678...</td>\n",
       "      <td>0</td>\n",
       "    </tr>\n",
       "    <tr>\n",
       "      <th>1</th>\n",
       "      <td>477012705</td>\n",
       "      <td>559500.0</td>\n",
       "      <td>Библиотека</td>\n",
       "      <td>Библиотека №151</td>\n",
       "      <td>Государственное бюджетное учреждение культуры ...</td>\n",
       "      <td>ГБУК г. Москвы «ЦБС ЮАО», Библиотека №151</td>\n",
       "      <td>Государственное бюджетное учреждение культуры ...</td>\n",
       "      <td>[{'OGRN': '1037739667888', 'ChiefName': 'Красн...</td>\n",
       "      <td>[{'PostalCode': '117648', 'District': 'район Ч...</td>\n",
       "      <td>Трофимова Ирина Юрьевна</td>\n",
       "      <td>...</td>\n",
       "      <td>[{'PublicPhone': ['(495) 318-79-29']}, {'Publi...</td>\n",
       "      <td>[{'Fax': ['(499) 610-29-00']}]</td>\n",
       "      <td>[{'Email': ['151libzav@cbsuao.ru']}]</td>\n",
       "      <td>[{'WorkHours': 'выходной', 'DayWeek': 'понедел...</td>\n",
       "      <td>Последний рабочий день месяца - санитарный. Дл...</td>\n",
       "      <td>bibliouao.ru</td>\n",
       "      <td>800.0</td>\n",
       "      <td>76900.0</td>\n",
       "      <td>{'type': 'MultiPoint', 'coordinates': [[37.598...</td>\n",
       "      <td>0</td>\n",
       "    </tr>\n",
       "    <tr>\n",
       "      <th>2</th>\n",
       "      <td>477013101</td>\n",
       "      <td>504200.0</td>\n",
       "      <td>Библиотека</td>\n",
       "      <td>Библиотека №163</td>\n",
       "      <td>Государственное бюджетное учреждение культуры ...</td>\n",
       "      <td>ГБУК г. Москвы «ЦБС ЮАО», Библиотека №163</td>\n",
       "      <td>Государственное бюджетное учреждение культуры ...</td>\n",
       "      <td>[{'OGRN': '1037739667888', 'ChiefName': 'Красн...</td>\n",
       "      <td>[{'PostalCode': '115114', 'District': 'Данилов...</td>\n",
       "      <td>Кирьянова Людмила Николаевна</td>\n",
       "      <td>...</td>\n",
       "      <td>[{'PublicPhone': ['(495) 952-96-53']}]</td>\n",
       "      <td>[]</td>\n",
       "      <td>[{'Email': ['163libzav@cbsuao.ru']}]</td>\n",
       "      <td>[{'WorkHours': 'выходной', 'DayWeek': 'понедел...</td>\n",
       "      <td>Последняя пятница месяца - санитарный день. Гр...</td>\n",
       "      <td>bibliouao.ru</td>\n",
       "      <td>490.0</td>\n",
       "      <td>69600.0</td>\n",
       "      <td>{'type': 'MultiPoint', 'coordinates': [[37.629...</td>\n",
       "      <td>0</td>\n",
       "    </tr>\n",
       "    <tr>\n",
       "      <th>3</th>\n",
       "      <td>477012953</td>\n",
       "      <td>227302.0</td>\n",
       "      <td>Библиотека</td>\n",
       "      <td>Библиотека-читальня имени И.С. Тургенева</td>\n",
       "      <td>Государственное бюджетное учреждение культуры ...</td>\n",
       "      <td>ГБУК г. Москвы «Библиотека-читальня им. И.С. Т...</td>\n",
       "      <td>0</td>\n",
       "      <td>[{'OGRN': '1027739881960', 'ChiefName': 'Крыло...</td>\n",
       "      <td>[{'PostalCode': '101000', 'District': 'Краснос...</td>\n",
       "      <td>Крылов-Иодко Ромуальд Ромуальдович</td>\n",
       "      <td>...</td>\n",
       "      <td>[{'PublicPhone': ['(495) 623-11-68']}, {'Publi...</td>\n",
       "      <td>[]</td>\n",
       "      <td>[{'Email': ['biblioteka@turgenev.ru']}]</td>\n",
       "      <td>[{'WorkHours': 'выходной', 'DayWeek': 'понедел...</td>\n",
       "      <td>Санитарный день - последний вторник месяца. В ...</td>\n",
       "      <td>turgenev.ru</td>\n",
       "      <td>139.0</td>\n",
       "      <td>7789.0</td>\n",
       "      <td>{'type': 'MultiPoint', 'coordinates': [[37.634...</td>\n",
       "      <td>0</td>\n",
       "    </tr>\n",
       "    <tr>\n",
       "      <th>4</th>\n",
       "      <td>477012297</td>\n",
       "      <td>143224.0</td>\n",
       "      <td>Библиотека</td>\n",
       "      <td>Библиотека искусств имени А. П. Боголюбова</td>\n",
       "      <td>Государственное бюджетное учреждение культуры ...</td>\n",
       "      <td>ГБУК г. Москвы «Библиотека искусств им. А. П. ...</td>\n",
       "      <td>0</td>\n",
       "      <td>[{'OGRN': '1037739279412', 'ChiefName': 'Семен...</td>\n",
       "      <td>[{'PostalCode': '127055', 'District': 'Тверско...</td>\n",
       "      <td>Семенов Владимир Олегович</td>\n",
       "      <td>...</td>\n",
       "      <td>[{'PublicPhone': ['(499) 973-14-94']}]</td>\n",
       "      <td>[{'Fax': ['(499) 973-14-94']}]</td>\n",
       "      <td>[{'Email': ['bogolubovlib@yandex.ru']}]</td>\n",
       "      <td>[{'WorkHours': 'выходной', 'DayWeek': 'понедел...</td>\n",
       "      <td>Санитарный день - последний вторник месяца. Гр...</td>\n",
       "      <td>bogolublib.ru</td>\n",
       "      <td>148.0</td>\n",
       "      <td>16345.0</td>\n",
       "      <td>{'type': 'MultiPoint', 'coordinates': [[37.602...</td>\n",
       "      <td>0</td>\n",
       "    </tr>\n",
       "  </tbody>\n",
       "</table>\n",
       "<p>5 rows × 21 columns</p>\n",
       "</div>"
      ],
      "text/plain": [
       "   global_id  NumOfVisitors    Category  \\\n",
       "0  870507232       588995.0  Библиотека   \n",
       "1  477012705       559500.0  Библиотека   \n",
       "2  477013101       504200.0  Библиотека   \n",
       "3  477012953       227302.0  Библиотека   \n",
       "4  477012297       143224.0  Библиотека   \n",
       "\n",
       "                                   CommonName  \\\n",
       "0            Библиотека имени Н. А. Некрасова   \n",
       "1                             Библиотека №151   \n",
       "2                             Библиотека №163   \n",
       "3    Библиотека-читальня имени И.С. Тургенева   \n",
       "4  Библиотека искусств имени А. П. Боголюбова   \n",
       "\n",
       "                                            FullName  \\\n",
       "0  Государственное бюджетное учреждение культуры ...   \n",
       "1  Государственное бюджетное учреждение культуры ...   \n",
       "2  Государственное бюджетное учреждение культуры ...   \n",
       "3  Государственное бюджетное учреждение культуры ...   \n",
       "4  Государственное бюджетное учреждение культуры ...   \n",
       "\n",
       "                                           ShortName  \\\n",
       "0  ГБУК г. Москвы «Центральная библиотека им. Н.А...   \n",
       "1          ГБУК г. Москвы «ЦБС ЮАО», Библиотека №151   \n",
       "2          ГБУК г. Москвы «ЦБС ЮАО», Библиотека №163   \n",
       "3  ГБУК г. Москвы «Библиотека-читальня им. И.С. Т...   \n",
       "4  ГБУК г. Москвы «Библиотека искусств им. А. П. ...   \n",
       "\n",
       "                                            ChiefOrg  \\\n",
       "0                                                  0   \n",
       "1  Государственное бюджетное учреждение культуры ...   \n",
       "2  Государственное бюджетное учреждение культуры ...   \n",
       "3                                                  0   \n",
       "4                                                  0   \n",
       "\n",
       "                                             OrgInfo  \\\n",
       "0  [{'OGRN': '1027739406815', 'ChiefName': 'Прива...   \n",
       "1  [{'OGRN': '1037739667888', 'ChiefName': 'Красн...   \n",
       "2  [{'OGRN': '1037739667888', 'ChiefName': 'Красн...   \n",
       "3  [{'OGRN': '1027739881960', 'ChiefName': 'Крыло...   \n",
       "4  [{'OGRN': '1037739279412', 'ChiefName': 'Семен...   \n",
       "\n",
       "                                       ObjectAddress  \\\n",
       "0  [{'PostalCode': '105005', 'District': 'Басманн...   \n",
       "1  [{'PostalCode': '117648', 'District': 'район Ч...   \n",
       "2  [{'PostalCode': '115114', 'District': 'Данилов...   \n",
       "3  [{'PostalCode': '101000', 'District': 'Краснос...   \n",
       "4  [{'PostalCode': '127055', 'District': 'Тверско...   \n",
       "\n",
       "                            ChiefName  ...  \\\n",
       "0       Привалова Мария Александровна  ...   \n",
       "1             Трофимова Ирина Юрьевна  ...   \n",
       "2        Кирьянова Людмила Николаевна  ...   \n",
       "3  Крылов-Иодко Ромуальд Ромуальдович  ...   \n",
       "4           Семенов Владимир Олегович  ...   \n",
       "\n",
       "                                         PublicPhone  \\\n",
       "0  [{'PublicPhone': ['(495) 916-90-68']}, {'Publi...   \n",
       "1  [{'PublicPhone': ['(495) 318-79-29']}, {'Publi...   \n",
       "2             [{'PublicPhone': ['(495) 952-96-53']}]   \n",
       "3  [{'PublicPhone': ['(495) 623-11-68']}, {'Publi...   \n",
       "4             [{'PublicPhone': ['(499) 973-14-94']}]   \n",
       "\n",
       "                              Fax                                      Email  \\\n",
       "0  [{'Fax': ['(495) 916-90-68']}]  [{'Email': ['biblioteka@nekrasovka.ru']}]   \n",
       "1  [{'Fax': ['(499) 610-29-00']}]       [{'Email': ['151libzav@cbsuao.ru']}]   \n",
       "2                              []       [{'Email': ['163libzav@cbsuao.ru']}]   \n",
       "3                              []    [{'Email': ['biblioteka@turgenev.ru']}]   \n",
       "4  [{'Fax': ['(499) 973-14-94']}]    [{'Email': ['bogolubovlib@yandex.ru']}]   \n",
       "\n",
       "                                        WorkingHours  \\\n",
       "0  [{'WorkHours': '10:00-22:00', 'DayWeek': 'поне...   \n",
       "1  [{'WorkHours': 'выходной', 'DayWeek': 'понедел...   \n",
       "2  [{'WorkHours': 'выходной', 'DayWeek': 'понедел...   \n",
       "3  [{'WorkHours': 'выходной', 'DayWeek': 'понедел...   \n",
       "4  [{'WorkHours': 'выходной', 'DayWeek': 'понедел...   \n",
       "\n",
       "                         ClarificationOfWorkingHours        WebSite  \\\n",
       "0  Последний вторник каждого месяца - санитарный ...  nekrasovka.ru   \n",
       "1  Последний рабочий день месяца - санитарный. Дл...   bibliouao.ru   \n",
       "2  Последняя пятница месяца - санитарный день. Гр...   bibliouao.ru   \n",
       "3  Санитарный день - последний вторник месяца. В ...    turgenev.ru   \n",
       "4  Санитарный день - последний вторник месяца. Гр...  bogolublib.ru   \n",
       "\n",
       "  NumOfSeats  NumOfReaders                                            geoData  \\\n",
       "0      179.0       48776.0  {'type': 'MultiPoint', 'coordinates': [[37.678...   \n",
       "1      800.0       76900.0  {'type': 'MultiPoint', 'coordinates': [[37.598...   \n",
       "2      490.0       69600.0  {'type': 'MultiPoint', 'coordinates': [[37.629...   \n",
       "3      139.0        7789.0  {'type': 'MultiPoint', 'coordinates': [[37.634...   \n",
       "4      148.0       16345.0  {'type': 'MultiPoint', 'coordinates': [[37.602...   \n",
       "\n",
       "  District  \n",
       "0        0  \n",
       "1        0  \n",
       "2        0  \n",
       "3        0  \n",
       "4        0  \n",
       "\n",
       "[5 rows x 21 columns]"
      ]
     },
     "execution_count": 2,
     "metadata": {},
     "output_type": "execute_result"
    }
   ],
   "source": [
    "req = requests.get('https://video.ittensive.com/python-advanced/data-7361-2019-11-28.utf.json')\n",
    "df = pd.DataFrame(json.loads(req.content)).fillna(value = 0)\n",
    "df.sort_values('NumOfVisitors', ascending = False, inplace = True)\n",
    "df.reset_index(drop = True, inplace = True)\n",
    "df['District'] = 0\n",
    "df.head()"
   ]
  },
  {
   "cell_type": "markdown",
   "metadata": {},
   "source": [
    "Заполняем значения в колонке районов данными из адресов объектов. Сокращаем название районов."
   ]
  },
  {
   "cell_type": "code",
   "execution_count": 3,
   "metadata": {},
   "outputs": [
    {
     "name": "stderr",
     "output_type": "stream",
     "text": [
      "D:\\Anaconda\\envs\\AI\\lib\\site-packages\\ipykernel_launcher.py:3: SettingWithCopyWarning: \n",
      "A value is trying to be set on a copy of a slice from a DataFrame\n",
      "\n",
      "See the caveats in the documentation: https://pandas.pydata.org/pandas-docs/stable/user_guide/indexing.html#returning-a-view-versus-a-copy\n",
      "  This is separate from the ipykernel package so we can avoid doing imports until\n",
      "D:\\Anaconda\\envs\\AI\\lib\\site-packages\\pandas\\core\\indexing.py:670: SettingWithCopyWarning: \n",
      "A value is trying to be set on a copy of a slice from a DataFrame\n",
      "\n",
      "See the caveats in the documentation: https://pandas.pydata.org/pandas-docs/stable/user_guide/indexing.html#returning-a-view-versus-a-copy\n",
      "  self._setitem_with_indexer(indexer, value)\n"
     ]
    }
   ],
   "source": [
    "for ind, address in enumerate(df.ObjectAddress):\n",
    "    for district in address:\n",
    "        df['District'][ind] = district['District'].replace('район', '').strip()"
   ]
  },
  {
   "cell_type": "markdown",
   "metadata": {},
   "source": [
    "Группируем данные по районам и сортируем их по числу посетителей. Выводим первые строки."
   ]
  },
  {
   "cell_type": "code",
   "execution_count": 4,
   "metadata": {},
   "outputs": [
    {
     "data": {
      "text/html": [
       "<div>\n",
       "<style scoped>\n",
       "    .dataframe tbody tr th:only-of-type {\n",
       "        vertical-align: middle;\n",
       "    }\n",
       "\n",
       "    .dataframe tbody tr th {\n",
       "        vertical-align: top;\n",
       "    }\n",
       "\n",
       "    .dataframe thead th {\n",
       "        text-align: right;\n",
       "    }\n",
       "</style>\n",
       "<table border=\"1\" class=\"dataframe\">\n",
       "  <thead>\n",
       "    <tr style=\"text-align: right;\">\n",
       "      <th></th>\n",
       "      <th>global_id</th>\n",
       "      <th>NumOfVisitors</th>\n",
       "      <th>NumOfSeats</th>\n",
       "      <th>NumOfReaders</th>\n",
       "    </tr>\n",
       "    <tr>\n",
       "      <th>District</th>\n",
       "      <th></th>\n",
       "      <th></th>\n",
       "      <th></th>\n",
       "      <th></th>\n",
       "    </tr>\n",
       "  </thead>\n",
       "  <tbody>\n",
       "    <tr>\n",
       "      <th>Басманный</th>\n",
       "      <td>3266146866</td>\n",
       "      <td>734934.0</td>\n",
       "      <td>192.0</td>\n",
       "      <td>67824.0</td>\n",
       "    </tr>\n",
       "    <tr>\n",
       "      <th>Чертаново Центральное</th>\n",
       "      <td>477012705</td>\n",
       "      <td>559500.0</td>\n",
       "      <td>800.0</td>\n",
       "      <td>76900.0</td>\n",
       "    </tr>\n",
       "    <tr>\n",
       "      <th>Даниловский</th>\n",
       "      <td>477013101</td>\n",
       "      <td>504200.0</td>\n",
       "      <td>490.0</td>\n",
       "      <td>69600.0</td>\n",
       "    </tr>\n",
       "    <tr>\n",
       "      <th>Красносельский</th>\n",
       "      <td>1431038384</td>\n",
       "      <td>284078.0</td>\n",
       "      <td>201.0</td>\n",
       "      <td>17613.0</td>\n",
       "    </tr>\n",
       "    <tr>\n",
       "      <th>Арбат</th>\n",
       "      <td>2514537275</td>\n",
       "      <td>239711.0</td>\n",
       "      <td>244.0</td>\n",
       "      <td>34828.0</td>\n",
       "    </tr>\n",
       "  </tbody>\n",
       "</table>\n",
       "</div>"
      ],
      "text/plain": [
       "                        global_id  NumOfVisitors  NumOfSeats  NumOfReaders\n",
       "District                                                                  \n",
       "Басманный              3266146866       734934.0       192.0       67824.0\n",
       "Чертаново Центральное   477012705       559500.0       800.0       76900.0\n",
       "Даниловский             477013101       504200.0       490.0       69600.0\n",
       "Красносельский         1431038384       284078.0       201.0       17613.0\n",
       "Арбат                  2514537275       239711.0       244.0       34828.0"
      ]
     },
     "execution_count": 4,
     "metadata": {},
     "output_type": "execute_result"
    }
   ],
   "source": [
    "grouped_data = df.groupby('District').sum()\n",
    "grouped_data.sort_values('NumOfVisitors', ascending = False, inplace = True)\n",
    "grouped_data.head()"
   ]
  },
  {
   "cell_type": "markdown",
   "metadata": {},
   "source": [
    "Выводим число посетителей библиотек в районе с наибольшей суммарной посещаемостью."
   ]
  },
  {
   "cell_type": "code",
   "execution_count": 6,
   "metadata": {},
   "outputs": [
    {
     "data": {
      "text/plain": [
       "734934"
      ]
     },
     "execution_count": 6,
     "metadata": {},
     "output_type": "execute_result"
    }
   ],
   "source": [
    "int(grouped_data.iloc[0][1])"
   ]
  },
  {
   "cell_type": "markdown",
   "metadata": {},
   "source": [
    "Отрисовываем диаграмму двадцати районов Москвы с наибольшей суммарной посещаемостью библиотек. "
   ]
  },
  {
   "cell_type": "code",
   "execution_count": 7,
   "metadata": {},
   "outputs": [
    {
     "data": {
      "image/png": "[encoded data removed]",
      "text/plain": [
       "<Figure size 432x432 with 1 Axes>"
      ]
     },
     "metadata": {},
     "output_type": "display_data"
    }
   ],
   "source": [
    "top_20 = grouped_data[:20]\n",
    "top_20.NumOfVisitors.plot.pie(label = '', figsize = (6, 6), fontsize = 6)\n",
    "plt.savefig('Districts.png')"
   ]
  },
  {
   "cell_type": "markdown",
   "metadata": {},
   "source": [
    "Создаём pdf отчёт с нужными данными и диаграммой."
   ]
  },
  {
   "cell_type": "code",
   "execution_count": 8,
   "metadata": {},
   "outputs": [],
   "source": [
    "pdfmetrics.registerFont(TTFont('Vera', 'Vera.ttf'))\n",
    "PDF = canvas.Canvas('districts.pdf', pagesize=pagesizes.A4)\n",
    "PDF.setFont('Vera', 20)\n",
    "PDF.drawString(100, 250, grouped_data.index[0] + ' район: ' + str(int(grouped_data.iloc[0][1])) + ' посетителей')\n",
    "PDF.drawImage(ImageReader('Districts.png'), 75, 350)\n",
    "PDF.save()"
   ]
  },
  {
   "cell_type": "markdown",
   "metadata": {},
   "source": [
    "Производим слияние нашего отчёта с титульной страницей и получаем финальную версию отчёта."
   ]
  },
  {
   "cell_type": "code",
   "execution_count": 9,
   "metadata": {},
   "outputs": [],
   "source": [
    "files = [\"title.pdf\", \"districts.pdf\"]\n",
    "merger = PdfFileMerger()\n",
    "for filename in files:\n",
    "    merger.append(PdfFileReader(open(filename, \"rb\")))\n",
    "merger.addMetadata({\n",
    "    '/Producer': \"ITtensive\",\n",
    "    '/Author': \"ITtensive\",\n",
    "    '/Creator': \"Anton Popkov\",\n",
    "    '/Copyright': \"ITtensive 2019\",\n",
    "    '/Title': \"Культурная статистика Москвы\"\n",
    "})\n",
    "merger.write(\"report.pdf\")"
   ]
  },
  {
   "cell_type": "markdown",
   "metadata": {},
   "source": [
    "### Задание: геральдические символы Москвы"
   ]
  },
  {
   "cell_type": "markdown",
   "metadata": {},
   "source": [
    "Сгенерируйте PDF документ из списка флагов и гербов районов Москвы:\n",
    "\n",
    "https://video.ittensive.com/python-advanced/data-102743-2019-11-13.utf.csv\n",
    "\n",
    "На каждой странице документа выведите название геральдического символа (Name), его описание (Description) и его изображение (Picture).\n",
    "Для показа изображений используйте адрес\n",
    "\n",
    "https://op.mos.ru/MEDIA/showFile?id=XXX\n",
    "\n",
    "где XXX - это значение поля Picture в наборе данных. Например:\n",
    "\n",
    "https://op.mos.ru/MEDIA/showFile?id=8466da35-6801-41a9-a71e-04b60408accb\n",
    "\n",
    "Если на каждой странице PDF документа выводить по одному геральдическому символу, то сколько получится страниц?"
   ]
  },
  {
   "cell_type": "markdown",
   "metadata": {},
   "source": [
    "###############################################################################################################################"
   ]
  },
  {
   "cell_type": "markdown",
   "metadata": {},
   "source": [
    "Импортируем библиотеки:"
   ]
  },
  {
   "cell_type": "code",
   "execution_count": 10,
   "metadata": {},
   "outputs": [],
   "source": [
    "import numpy as np\n",
    "import pandas as pd\n",
    "import pdfkit\n",
    "from reportlab.pdfgen import canvas\n",
    "from reportlab.lib import pagesizes\n",
    "from reportlab.pdfbase import pdfmetrics\n",
    "from reportlab.pdfbase.ttfonts import TTFont\n",
    "from PyPDF2 import PdfFileMerger, PdfFileReader\n",
    "from reportlab.lib.utils import ImageReader"
   ]
  },
  {
   "cell_type": "markdown",
   "metadata": {},
   "source": [
    "Считываем данные в датафрейм. Убираем колонку с отсутствующими значениями."
   ]
  },
  {
   "cell_type": "code",
   "execution_count": 11,
   "metadata": {},
   "outputs": [
    {
     "data": {
      "text/html": [
       "<div>\n",
       "<style scoped>\n",
       "    .dataframe tbody tr th:only-of-type {\n",
       "        vertical-align: middle;\n",
       "    }\n",
       "\n",
       "    .dataframe tbody tr th {\n",
       "        vertical-align: top;\n",
       "    }\n",
       "\n",
       "    .dataframe thead th {\n",
       "        text-align: right;\n",
       "    }\n",
       "</style>\n",
       "<table border=\"1\" class=\"dataframe\">\n",
       "  <thead>\n",
       "    <tr style=\"text-align: right;\">\n",
       "      <th></th>\n",
       "      <th>Name</th>\n",
       "      <th>Type</th>\n",
       "      <th>Picture</th>\n",
       "      <th>Description</th>\n",
       "      <th>Semantics</th>\n",
       "      <th>global_id</th>\n",
       "    </tr>\n",
       "    <tr>\n",
       "      <th>ID</th>\n",
       "      <th></th>\n",
       "      <th></th>\n",
       "      <th></th>\n",
       "      <th></th>\n",
       "      <th></th>\n",
       "      <th></th>\n",
       "    </tr>\n",
       "  </thead>\n",
       "  <tbody>\n",
       "    <tr>\n",
       "      <th>1</th>\n",
       "      <td>Герб муниципального округа Новокосино в городе...</td>\n",
       "      <td>Герб</td>\n",
       "      <td>4b29170f-c81c-4418-9669-50bb4f419878</td>\n",
       "      <td>В четырежды рассечённом пурпурном и серебряном...</td>\n",
       "      <td>Новокосино - уютный уголок столицы, примыкающи...</td>\n",
       "      <td>881376735</td>\n",
       "    </tr>\n",
       "    <tr>\n",
       "      <th>2</th>\n",
       "      <td>Флаг муниципального округа Новокосино в городе...</td>\n",
       "      <td>Флаг</td>\n",
       "      <td>3aaf306c-3d1e-40f8-9388-838c8f3ed923</td>\n",
       "      <td>Прямоугольное двухстороннее полотнище с отноше...</td>\n",
       "      <td>Новокосино - уютный уголок столицы, примыкающи...</td>\n",
       "      <td>881376867</td>\n",
       "    </tr>\n",
       "    <tr>\n",
       "      <th>3</th>\n",
       "      <td>Герб муниципального округа Нагатино-Садовники ...</td>\n",
       "      <td>Герб</td>\n",
       "      <td>8e8a775e-bb48-4606-a4b1-769ae45efc87</td>\n",
       "      <td>В зелёном поле на чёрной земле - золотая яблон...</td>\n",
       "      <td>Зелёный цвет щита символизирует заливные луга,...</td>\n",
       "      <td>881376945</td>\n",
       "    </tr>\n",
       "    <tr>\n",
       "      <th>4</th>\n",
       "      <td>Флаг муниципального округа Нагатино-Садовники ...</td>\n",
       "      <td>Флаг</td>\n",
       "      <td>95d4ead4-d9e8-4de4-8d86-03dd0214d4d9</td>\n",
       "      <td>Прямоугольное двухстороннее полотнище зелёного...</td>\n",
       "      <td>Зелёный цвет щита символизирует заливные луга,...</td>\n",
       "      <td>881384742</td>\n",
       "    </tr>\n",
       "    <tr>\n",
       "      <th>5</th>\n",
       "      <td>Герб муниципального округа Марфино в городе Мо...</td>\n",
       "      <td>Герб</td>\n",
       "      <td>4e0b7f34-f186-40e6-a731-dbc1ade83025</td>\n",
       "      <td>Зелёное и лазоревое поле разделено фигурной пе...</td>\n",
       "      <td>Лист березы совместно с отрезками нитей, вылож...</td>\n",
       "      <td>881396305</td>\n",
       "    </tr>\n",
       "  </tbody>\n",
       "</table>\n",
       "</div>"
      ],
      "text/plain": [
       "                                                 Name  Type  \\\n",
       "ID                                                            \n",
       "1   Герб муниципального округа Новокосино в городе...  Герб   \n",
       "2   Флаг муниципального округа Новокосино в городе...  Флаг   \n",
       "3   Герб муниципального округа Нагатино-Садовники ...  Герб   \n",
       "4   Флаг муниципального округа Нагатино-Садовники ...  Флаг   \n",
       "5   Герб муниципального округа Марфино в городе Мо...  Герб   \n",
       "\n",
       "                                 Picture  \\\n",
       "ID                                         \n",
       "1   4b29170f-c81c-4418-9669-50bb4f419878   \n",
       "2   3aaf306c-3d1e-40f8-9388-838c8f3ed923   \n",
       "3   8e8a775e-bb48-4606-a4b1-769ae45efc87   \n",
       "4   95d4ead4-d9e8-4de4-8d86-03dd0214d4d9   \n",
       "5   4e0b7f34-f186-40e6-a731-dbc1ade83025   \n",
       "\n",
       "                                          Description  \\\n",
       "ID                                                      \n",
       "1   В четырежды рассечённом пурпурном и серебряном...   \n",
       "2   Прямоугольное двухстороннее полотнище с отноше...   \n",
       "3   В зелёном поле на чёрной земле - золотая яблон...   \n",
       "4   Прямоугольное двухстороннее полотнище зелёного...   \n",
       "5   Зелёное и лазоревое поле разделено фигурной пе...   \n",
       "\n",
       "                                            Semantics  global_id  \n",
       "ID                                                                \n",
       "1   Новокосино - уютный уголок столицы, примыкающи...  881376735  \n",
       "2   Новокосино - уютный уголок столицы, примыкающи...  881376867  \n",
       "3   Зелёный цвет щита символизирует заливные луга,...  881376945  \n",
       "4   Зелёный цвет щита символизирует заливные луга,...  881384742  \n",
       "5   Лист березы совместно с отрезками нитей, вылож...  881396305  "
      ]
     },
     "execution_count": 11,
     "metadata": {},
     "output_type": "execute_result"
    }
   ],
   "source": [
    "df = pd.read_csv('https://video.ittensive.com/python-advanced/data-102743-2019-11-13.utf.csv', \n",
    "                 sep = ';', index_col = 'ID').dropna(axis = 1)\n",
    "df.head()"
   ]
  },
  {
   "cell_type": "markdown",
   "metadata": {},
   "source": [
    "Выводим небольшую статистику по данным:"
   ]
  },
  {
   "cell_type": "code",
   "execution_count": 12,
   "metadata": {},
   "outputs": [
    {
     "name": "stdout",
     "output_type": "stream",
     "text": [
      "<class 'pandas.core.frame.DataFrame'>\n",
      "Int64Index: 42 entries, 1 to 42\n",
      "Data columns (total 6 columns):\n",
      " #   Column       Non-Null Count  Dtype \n",
      "---  ------       --------------  ----- \n",
      " 0   Name         42 non-null     object\n",
      " 1   Type         42 non-null     object\n",
      " 2   Picture      42 non-null     object\n",
      " 3   Description  42 non-null     object\n",
      " 4   Semantics    42 non-null     object\n",
      " 5   global_id    42 non-null     int64 \n",
      "dtypes: int64(1), object(5)\n",
      "memory usage: 2.3+ KB\n"
     ]
    }
   ],
   "source": [
    "df.info()"
   ]
  },
  {
   "cell_type": "code",
   "execution_count": 13,
   "metadata": {},
   "outputs": [
    {
     "name": "stdout",
     "output_type": "stream",
     "text": [
      "496\n",
      "70\n",
      "241.92857142857142\n"
     ]
    }
   ],
   "source": [
    "descr_len = [len(i) for i in df.Description]\n",
    "print(np.max(descr_len))\n",
    "print(np.min(descr_len))\n",
    "print(np.mean(descr_len))"
   ]
  },
  {
   "cell_type": "code",
   "execution_count": 14,
   "metadata": {},
   "outputs": [
    {
     "name": "stdout",
     "output_type": "stream",
     "text": [
      "61\n",
      "36\n",
      "50.333333333333336\n"
     ]
    }
   ],
   "source": [
    "name_len = [len(i) for i in df.Name]\n",
    "print(np.max(name_len))\n",
    "print(np.min(name_len))\n",
    "print(np.mean(name_len))"
   ]
  },
  {
   "cell_type": "markdown",
   "metadata": {},
   "source": [
    "Создаём титульную страницу для отчёта:"
   ]
  },
  {
   "cell_type": "code",
   "execution_count": 15,
   "metadata": {},
   "outputs": [],
   "source": [
    "title_page = canvas.Canvas('title_page.pdf', pagesize = pagesizes.A4)\n",
    "pdfmetrics.registerFont(TTFont('TNR', 'times.ttf'))\n",
    "title_page.setFont('TNR', 40)\n",
    "title_page.drawString(150, 550, 'Геральдические')\n",
    "title_page.drawString(180, 500, 'Символы')\n",
    "title_page.drawString(185, 450, 'Москвы')\n",
    "title_page.setFont('TNR', 14)\n",
    "title_page.drawString(490, 50, 'Автор:')\n",
    "title_page.drawString(490, 35, 'Попков Антон')\n",
    "title_page.save()"
   ]
  },
  {
   "cell_type": "markdown",
   "metadata": {},
   "source": [
    "Функция для разбивки длинных описаний на строки. Разбивка необходима для дальнейшего нанесения на страницу описаний без переносов."
   ]
  },
  {
   "cell_type": "code",
   "execution_count": 16,
   "metadata": {},
   "outputs": [],
   "source": [
    "def split_string(st):\n",
    "    ls = st.split()\n",
    "    str_list = []\n",
    "    for i in range(0, len(ls) + 10, 10):\n",
    "        str_list.append(' '.join(ls[i:i + 10]))\n",
    "    return str_list"
   ]
  },
  {
   "cell_type": "markdown",
   "metadata": {},
   "source": [
    "Создаём финальный отчёт. Итерируем по ссылкам на картинки и наносим их на страницу. Затем наносим имена и описания."
   ]
  },
  {
   "cell_type": "code",
   "execution_count": 17,
   "metadata": {},
   "outputs": [],
   "source": [
    "merger = PdfFileMerger()\n",
    "merger.append(PdfFileReader(open('title_page.pdf', 'rb')))\n",
    "for ind, emblem in enumerate(df.Picture):\n",
    "    page = canvas.Canvas(f'page.pdf', pagesize=pagesizes.A4)\n",
    "    page.drawImage(ImageReader('https://op.mos.ru/MEDIA/showFile?id=' + emblem), 150, 350)\n",
    "    page.setFont('TNR', 18)\n",
    "    page.drawString(50, 750, df.Name[ind + 1])\n",
    "    page.setFont('TNR', 10)\n",
    "    upper_bound = 150\n",
    "    for st in split_string(df.Description[ind + 1]):\n",
    "        page.drawString(100, upper_bound, st)\n",
    "        upper_bound -= 10\n",
    "    page.save()\n",
    "    merger.append(PdfFileReader(open('page.pdf', 'rb')))\n",
    "merger.write('emblems.pdf')"
   ]
  },
  {
   "cell_type": "markdown",
   "metadata": {},
   "source": [
    "### Задание: многостраничный отчет"
   ]
  },
  {
   "cell_type": "markdown",
   "metadata": {},
   "source": [
    "Используя данные по активностям в парках Москвы\n",
    "\n",
    "https://video.ittensive.com/python-advanced/data-107235-2019-12-02.utf.json\n",
    "\n",
    "Создайте PDF отчет, в котором выведите:\n",
    "\n",
    "1. Диаграмму распределения числа активностей по паркам, топ10 самых активных\n",
    "2. Таблицу активностей по всем паркам в виде Активность-Расписание-Парк\n",
    "\n",
    "Сколько активностей Тайцзицюань есть в парках Москвы?"
   ]
  },
  {
   "cell_type": "markdown",
   "metadata": {},
   "source": [
    "###############################################################################################################################"
   ]
  },
  {
   "cell_type": "markdown",
   "metadata": {},
   "source": [
    "Импрортируем библиотеки."
   ]
  },
  {
   "cell_type": "code",
   "execution_count": 1,
   "metadata": {},
   "outputs": [],
   "source": [
    "import pandas as pd\n",
    "import requests\n",
    "import json\n",
    "import pdfkit\n",
    "import binascii\n",
    "from jinja2 import Template\n",
    "import matplotlib.pyplot as plt\n",
    "%matplotlib inline"
   ]
  },
  {
   "cell_type": "markdown",
   "metadata": {},
   "source": [
    "Делаем запрос к json файлу и конвертируем его в датафрейм."
   ]
  },
  {
   "cell_type": "code",
   "execution_count": 2,
   "metadata": {},
   "outputs": [
    {
     "data": {
      "text/html": [
       "<div>\n",
       "<style scoped>\n",
       "    .dataframe tbody tr th:only-of-type {\n",
       "        vertical-align: middle;\n",
       "    }\n",
       "\n",
       "    .dataframe tbody tr th {\n",
       "        vertical-align: top;\n",
       "    }\n",
       "\n",
       "    .dataframe thead th {\n",
       "        text-align: right;\n",
       "    }\n",
       "</style>\n",
       "<table border=\"1\" class=\"dataframe\">\n",
       "  <thead>\n",
       "    <tr style=\"text-align: right;\">\n",
       "      <th></th>\n",
       "      <th>global_id</th>\n",
       "      <th>CoursesTimetable</th>\n",
       "      <th>HelpPhone</th>\n",
       "      <th>NameOfPark</th>\n",
       "      <th>CourseName</th>\n",
       "      <th>CoursesDescription</th>\n",
       "      <th>PaidService</th>\n",
       "    </tr>\n",
       "    <tr>\n",
       "      <th>ID</th>\n",
       "      <th></th>\n",
       "      <th></th>\n",
       "      <th></th>\n",
       "      <th></th>\n",
       "      <th></th>\n",
       "      <th></th>\n",
       "      <th></th>\n",
       "    </tr>\n",
       "  </thead>\n",
       "  <tbody>\n",
       "    <tr>\n",
       "      <th>1</th>\n",
       "      <td>1019998364</td>\n",
       "      <td>Воскресенье, 16:00–17:00, 17:00–18:00</td>\n",
       "      <td>[{'global_id': 78.0, 'HelpPhone': '(926) 600-1...</td>\n",
       "      <td>{'global_id': 4331848, 'value': 'Сад культуры ...</td>\n",
       "      <td>Английский язык для детей</td>\n",
       "      <td>В непринужденной игровой обстановке участники ...</td>\n",
       "      <td>Бесплатно</td>\n",
       "    </tr>\n",
       "    <tr>\n",
       "      <th>2</th>\n",
       "      <td>1019998365</td>\n",
       "      <td>Пятница, 20:30–22:00</td>\n",
       "      <td>[{'global_id': 80.0, 'HelpPhone': '(926) 600-1...</td>\n",
       "      <td>{'global_id': 4331848, 'value': 'Сад культуры ...</td>\n",
       "      <td>Киноклуб на английском языке</td>\n",
       "      <td>Для гостей сада от 16 лет проходят встречи язы...</td>\n",
       "      <td>Бесплатно. Необходима предварительная регистра...</td>\n",
       "    </tr>\n",
       "    <tr>\n",
       "      <th>3</th>\n",
       "      <td>1019999999</td>\n",
       "      <td>Воскресенье, 14:00–16:00</td>\n",
       "      <td>[{'global_id': 81.0, 'HelpPhone': '(926) 210-3...</td>\n",
       "      <td>{'global_id': 4331848, 'value': 'Сад культуры ...</td>\n",
       "      <td>Цигун на открытом воздухе</td>\n",
       "      <td>Занятия проходят по методу фалунь дафа — совер...</td>\n",
       "      <td>Бесплатно</td>\n",
       "    </tr>\n",
       "    <tr>\n",
       "      <th>4</th>\n",
       "      <td>1020000044</td>\n",
       "      <td>Суббота, 17:00–18:00</td>\n",
       "      <td>[{'global_id': 82.0, 'HelpPhone': '(499) 261-5...</td>\n",
       "      <td>{'global_id': 4331848, 'value': 'Сад культуры ...</td>\n",
       "      <td>Мастер-классы по парным танцам на льду</td>\n",
       "      <td>На катке в саду имени Баумана будут организова...</td>\n",
       "      <td>Бесплатно</td>\n",
       "    </tr>\n",
       "    <tr>\n",
       "      <th>5</th>\n",
       "      <td>1020000047</td>\n",
       "      <td>Вторник, 15:00–16:00, с декабря</td>\n",
       "      <td>[{'global_id': 83.0, 'HelpPhone': '(499) 261-5...</td>\n",
       "      <td>{'global_id': 4331848, 'value': 'Сад культуры ...</td>\n",
       "      <td>Мастерские театрального художника</td>\n",
       "      <td>На встречах с детским театром «Домик Фанни Бэл...</td>\n",
       "      <td>Бесплатно</td>\n",
       "    </tr>\n",
       "  </tbody>\n",
       "</table>\n",
       "</div>"
      ],
      "text/plain": [
       "     global_id                       CoursesTimetable  \\\n",
       "ID                                                      \n",
       "1   1019998364  Воскресенье, 16:00–17:00, 17:00–18:00   \n",
       "2   1019998365                   Пятница, 20:30–22:00   \n",
       "3   1019999999               Воскресенье, 14:00–16:00   \n",
       "4   1020000044                   Суббота, 17:00–18:00   \n",
       "5   1020000047        Вторник, 15:00–16:00, с декабря   \n",
       "\n",
       "                                            HelpPhone  \\\n",
       "ID                                                      \n",
       "1   [{'global_id': 78.0, 'HelpPhone': '(926) 600-1...   \n",
       "2   [{'global_id': 80.0, 'HelpPhone': '(926) 600-1...   \n",
       "3   [{'global_id': 81.0, 'HelpPhone': '(926) 210-3...   \n",
       "4   [{'global_id': 82.0, 'HelpPhone': '(499) 261-5...   \n",
       "5   [{'global_id': 83.0, 'HelpPhone': '(499) 261-5...   \n",
       "\n",
       "                                           NameOfPark  \\\n",
       "ID                                                      \n",
       "1   {'global_id': 4331848, 'value': 'Сад культуры ...   \n",
       "2   {'global_id': 4331848, 'value': 'Сад культуры ...   \n",
       "3   {'global_id': 4331848, 'value': 'Сад культуры ...   \n",
       "4   {'global_id': 4331848, 'value': 'Сад культуры ...   \n",
       "5   {'global_id': 4331848, 'value': 'Сад культуры ...   \n",
       "\n",
       "                                CourseName  \\\n",
       "ID                                           \n",
       "1                Английский язык для детей   \n",
       "2             Киноклуб на английском языке   \n",
       "3                Цигун на открытом воздухе   \n",
       "4   Мастер-классы по парным танцам на льду   \n",
       "5        Мастерские театрального художника   \n",
       "\n",
       "                                   CoursesDescription  \\\n",
       "ID                                                      \n",
       "1   В непринужденной игровой обстановке участники ...   \n",
       "2   Для гостей сада от 16 лет проходят встречи язы...   \n",
       "3   Занятия проходят по методу фалунь дафа — совер...   \n",
       "4   На катке в саду имени Баумана будут организова...   \n",
       "5   На встречах с детским театром «Домик Фанни Бэл...   \n",
       "\n",
       "                                          PaidService  \n",
       "ID                                                     \n",
       "1                                           Бесплатно  \n",
       "2   Бесплатно. Необходима предварительная регистра...  \n",
       "3                                           Бесплатно  \n",
       "4                                           Бесплатно  \n",
       "5                                           Бесплатно  "
      ]
     },
     "execution_count": 2,
     "metadata": {},
     "output_type": "execute_result"
    }
   ],
   "source": [
    "req = requests.get('https://video.ittensive.com/python-advanced/data-107235-2019-12-02.utf.json')\n",
    "df = pd.DataFrame(json.loads(req.content))\n",
    "df.reset_index()\n",
    "df.set_index('ID', inplace = True)\n",
    "df.head()"
   ]
  },
  {
   "cell_type": "markdown",
   "metadata": {},
   "source": [
    "Извлекаем имена парков из колонки NameOfPark."
   ]
  },
  {
   "cell_type": "code",
   "execution_count": 3,
   "metadata": {},
   "outputs": [
    {
     "data": {
      "text/html": [
       "<div>\n",
       "<style scoped>\n",
       "    .dataframe tbody tr th:only-of-type {\n",
       "        vertical-align: middle;\n",
       "    }\n",
       "\n",
       "    .dataframe tbody tr th {\n",
       "        vertical-align: top;\n",
       "    }\n",
       "\n",
       "    .dataframe thead th {\n",
       "        text-align: right;\n",
       "    }\n",
       "</style>\n",
       "<table border=\"1\" class=\"dataframe\">\n",
       "  <thead>\n",
       "    <tr style=\"text-align: right;\">\n",
       "      <th></th>\n",
       "      <th>global_id</th>\n",
       "      <th>CoursesTimetable</th>\n",
       "      <th>HelpPhone</th>\n",
       "      <th>NameOfPark</th>\n",
       "      <th>CourseName</th>\n",
       "      <th>CoursesDescription</th>\n",
       "      <th>PaidService</th>\n",
       "    </tr>\n",
       "    <tr>\n",
       "      <th>ID</th>\n",
       "      <th></th>\n",
       "      <th></th>\n",
       "      <th></th>\n",
       "      <th></th>\n",
       "      <th></th>\n",
       "      <th></th>\n",
       "      <th></th>\n",
       "    </tr>\n",
       "  </thead>\n",
       "  <tbody>\n",
       "    <tr>\n",
       "      <th>1</th>\n",
       "      <td>1019998364</td>\n",
       "      <td>Воскресенье, 16:00–17:00, 17:00–18:00</td>\n",
       "      <td>[{'global_id': 78.0, 'HelpPhone': '(926) 600-1...</td>\n",
       "      <td>Сад культуры и отдыха имени Н.Э. Баумана</td>\n",
       "      <td>Английский язык для детей</td>\n",
       "      <td>В непринужденной игровой обстановке участники ...</td>\n",
       "      <td>Бесплатно</td>\n",
       "    </tr>\n",
       "    <tr>\n",
       "      <th>2</th>\n",
       "      <td>1019998365</td>\n",
       "      <td>Пятница, 20:30–22:00</td>\n",
       "      <td>[{'global_id': 80.0, 'HelpPhone': '(926) 600-1...</td>\n",
       "      <td>Сад культуры и отдыха имени Н.Э. Баумана</td>\n",
       "      <td>Киноклуб на английском языке</td>\n",
       "      <td>Для гостей сада от 16 лет проходят встречи язы...</td>\n",
       "      <td>Бесплатно. Необходима предварительная регистра...</td>\n",
       "    </tr>\n",
       "    <tr>\n",
       "      <th>3</th>\n",
       "      <td>1019999999</td>\n",
       "      <td>Воскресенье, 14:00–16:00</td>\n",
       "      <td>[{'global_id': 81.0, 'HelpPhone': '(926) 210-3...</td>\n",
       "      <td>Сад культуры и отдыха имени Н.Э. Баумана</td>\n",
       "      <td>Цигун на открытом воздухе</td>\n",
       "      <td>Занятия проходят по методу фалунь дафа — совер...</td>\n",
       "      <td>Бесплатно</td>\n",
       "    </tr>\n",
       "    <tr>\n",
       "      <th>4</th>\n",
       "      <td>1020000044</td>\n",
       "      <td>Суббота, 17:00–18:00</td>\n",
       "      <td>[{'global_id': 82.0, 'HelpPhone': '(499) 261-5...</td>\n",
       "      <td>Сад культуры и отдыха имени Н.Э. Баумана</td>\n",
       "      <td>Мастер-классы по парным танцам на льду</td>\n",
       "      <td>На катке в саду имени Баумана будут организова...</td>\n",
       "      <td>Бесплатно</td>\n",
       "    </tr>\n",
       "    <tr>\n",
       "      <th>5</th>\n",
       "      <td>1020000047</td>\n",
       "      <td>Вторник, 15:00–16:00, с декабря</td>\n",
       "      <td>[{'global_id': 83.0, 'HelpPhone': '(499) 261-5...</td>\n",
       "      <td>Сад культуры и отдыха имени Н.Э. Баумана</td>\n",
       "      <td>Мастерские театрального художника</td>\n",
       "      <td>На встречах с детским театром «Домик Фанни Бэл...</td>\n",
       "      <td>Бесплатно</td>\n",
       "    </tr>\n",
       "  </tbody>\n",
       "</table>\n",
       "</div>"
      ],
      "text/plain": [
       "     global_id                       CoursesTimetable  \\\n",
       "ID                                                      \n",
       "1   1019998364  Воскресенье, 16:00–17:00, 17:00–18:00   \n",
       "2   1019998365                   Пятница, 20:30–22:00   \n",
       "3   1019999999               Воскресенье, 14:00–16:00   \n",
       "4   1020000044                   Суббота, 17:00–18:00   \n",
       "5   1020000047        Вторник, 15:00–16:00, с декабря   \n",
       "\n",
       "                                            HelpPhone  \\\n",
       "ID                                                      \n",
       "1   [{'global_id': 78.0, 'HelpPhone': '(926) 600-1...   \n",
       "2   [{'global_id': 80.0, 'HelpPhone': '(926) 600-1...   \n",
       "3   [{'global_id': 81.0, 'HelpPhone': '(926) 210-3...   \n",
       "4   [{'global_id': 82.0, 'HelpPhone': '(499) 261-5...   \n",
       "5   [{'global_id': 83.0, 'HelpPhone': '(499) 261-5...   \n",
       "\n",
       "                                  NameOfPark  \\\n",
       "ID                                             \n",
       "1   Сад культуры и отдыха имени Н.Э. Баумана   \n",
       "2   Сад культуры и отдыха имени Н.Э. Баумана   \n",
       "3   Сад культуры и отдыха имени Н.Э. Баумана   \n",
       "4   Сад культуры и отдыха имени Н.Э. Баумана   \n",
       "5   Сад культуры и отдыха имени Н.Э. Баумана   \n",
       "\n",
       "                                CourseName  \\\n",
       "ID                                           \n",
       "1                Английский язык для детей   \n",
       "2             Киноклуб на английском языке   \n",
       "3                Цигун на открытом воздухе   \n",
       "4   Мастер-классы по парным танцам на льду   \n",
       "5        Мастерские театрального художника   \n",
       "\n",
       "                                   CoursesDescription  \\\n",
       "ID                                                      \n",
       "1   В непринужденной игровой обстановке участники ...   \n",
       "2   Для гостей сада от 16 лет проходят встречи язы...   \n",
       "3   Занятия проходят по методу фалунь дафа — совер...   \n",
       "4   На катке в саду имени Баумана будут организова...   \n",
       "5   На встречах с детским театром «Домик Фанни Бэл...   \n",
       "\n",
       "                                          PaidService  \n",
       "ID                                                     \n",
       "1                                           Бесплатно  \n",
       "2   Бесплатно. Необходима предварительная регистра...  \n",
       "3                                           Бесплатно  \n",
       "4                                           Бесплатно  \n",
       "5                                           Бесплатно  "
      ]
     },
     "execution_count": 3,
     "metadata": {},
     "output_type": "execute_result"
    }
   ],
   "source": [
    "df.NameOfPark = df.NameOfPark.apply(lambda x: x['value'])\n",
    "df.head()"
   ]
  },
  {
   "cell_type": "markdown",
   "metadata": {},
   "source": [
    "Группируем число активностей по паркам."
   ]
  },
  {
   "cell_type": "code",
   "execution_count": 4,
   "metadata": {},
   "outputs": [
    {
     "data": {
      "text/plain": [
       "NameOfPark\n",
       "Парк Сокольники                                41\n",
       "Парк Таганский (Основная территория)           18\n",
       "Парк «Ходынское поле» (основная территория)    15\n",
       "Парк «Фили»                                    13\n",
       "Парк Победы на Поклонной горе                  13\n",
       "Воронцовский парк                              13\n",
       "Парк «Северное Тушино»                         10\n",
       "Измайловский парк                               8\n",
       "Сад культуры и отдыха имени Н.Э. Баумана        6\n",
       "Ландшафтный парк «Митино»                       6\n",
       "Парк «Зарядье»                                  6\n",
       "Парк Бабушкинский (основная территория)         6\n",
       "Сквер по Олонецкому проезду                     6\n",
       "Name: CourseName, dtype: int64"
      ]
     },
     "execution_count": 4,
     "metadata": {},
     "output_type": "execute_result"
    }
   ],
   "source": [
    "actions = df.groupby('NameOfPark').count()['CourseName'].sort_values(ascending = False)\n",
    "top_10 = actions[actions > 5]\n",
    "top_10"
   ]
  },
  {
   "cell_type": "markdown",
   "metadata": {},
   "source": [
    "Визуализируем количество активностей с помощью диаграммы."
   ]
  },
  {
   "cell_type": "code",
   "execution_count": 5,
   "metadata": {},
   "outputs": [
    {
     "data": {
      "image/png": "[encoded data removed]",
      "text/plain": [
       "<Figure size 432x432 with 1 Axes>"
      ]
     },
     "metadata": {},
     "output_type": "display_data"
    }
   ],
   "source": [
    "fig = plt.figure(figsize = (12, 6))\n",
    "area = fig.add_subplot(1, 1, 1)\n",
    "top_10.plot.pie(ax = area, labels = ['']*13, label = '', figsize = (6, 6), fontsize = 8)\n",
    "plt.legend(top_10.index, bbox_to_anchor = (1.5, 1, 0.1, 0))\n",
    "plt.savefig('top-10_parks.png', bbox_inches=\"tight\")"
   ]
  },
  {
   "cell_type": "markdown",
   "metadata": {},
   "source": [
    "Ищем активности \"Тайцзицюань\" в парках Москвы."
   ]
  },
  {
   "cell_type": "code",
   "execution_count": 6,
   "metadata": {},
   "outputs": [
    {
     "data": {
      "text/html": [
       "<div>\n",
       "<style scoped>\n",
       "    .dataframe tbody tr th:only-of-type {\n",
       "        vertical-align: middle;\n",
       "    }\n",
       "\n",
       "    .dataframe tbody tr th {\n",
       "        vertical-align: top;\n",
       "    }\n",
       "\n",
       "    .dataframe thead th {\n",
       "        text-align: right;\n",
       "    }\n",
       "</style>\n",
       "<table border=\"1\" class=\"dataframe\">\n",
       "  <thead>\n",
       "    <tr style=\"text-align: right;\">\n",
       "      <th></th>\n",
       "      <th>CourseName</th>\n",
       "      <th>CoursesTimetable</th>\n",
       "      <th>NameOfPark</th>\n",
       "    </tr>\n",
       "    <tr>\n",
       "      <th>ID</th>\n",
       "      <th></th>\n",
       "      <th></th>\n",
       "      <th></th>\n",
       "    </tr>\n",
       "  </thead>\n",
       "  <tbody>\n",
       "    <tr>\n",
       "      <th>34</th>\n",
       "      <td>Тайцзицюань</td>\n",
       "      <td>Понедельник, среда, 14:00–16:00</td>\n",
       "      <td>Парк «Северное Тушино»</td>\n",
       "    </tr>\n",
       "  </tbody>\n",
       "</table>\n",
       "</div>"
      ],
      "text/plain": [
       "     CourseName                 CoursesTimetable              NameOfPark\n",
       "ID                                                                      \n",
       "34  Тайцзицюань  Понедельник, среда, 14:00–16:00  Парк «Северное Тушино»"
      ]
     },
     "execution_count": 6,
     "metadata": {},
     "output_type": "execute_result"
    }
   ],
   "source": [
    "table = df[['CourseName', 'CoursesTimetable', 'NameOfPark']]\n",
    "table.loc[table.CourseName == 'Тайцзицюань']"
   ]
  },
  {
   "cell_type": "markdown",
   "metadata": {},
   "source": [
    "Конвертируем данные в HTML документ по шаблону, затем создаём PDF отчёт."
   ]
  },
  {
   "cell_type": "code",
   "execution_count": 27,
   "metadata": {},
   "outputs": [
    {
     "name": "stdout",
     "output_type": "stream",
     "text": [
      "Loading pages (1/6)\r\n",
      "[>                                                           ] 0%\r",
      "[======>                                                     ] 10%\r",
      "[===========================>                                ] 45%\r",
      "[=============================>                              ] 49%\r",
      "[============================================================] 100%\r",
      "Counting pages (2/6)                                               \r\n",
      "[============================================================] Object 1 of 1\r",
      "Resolving links (4/6)                                                       \r\n",
      "[============================================================] Object 1 of 1\r",
      "Loading headers and footers (5/6)                                           \r\n",
      "Printing pages (6/6)\r\n",
      "[>                                                           ] Preparing\r",
      "[======>                                                     ] Page 1 of 10\r",
      "[============>                                               ] Page 2 of 10\r",
      "[==================>                                         ] Page 3 of 10\r",
      "[========================>                                   ] Page 4 of 10\r",
      "[==============================>                             ] Page 5 of 10\r",
      "[====================================>                       ] Page 6 of 10\r",
      "[==========================================>                 ] Page 7 of 10\r",
      "[================================================>           ] Page 8 of 10\r",
      "[======================================================>     ] Page 9 of 10\r",
      "[============================================================] Page 10 of 10\r",
      "Done                                                                        \r\n"
     ]
    },
    {
     "data": {
      "text/plain": [
       "True"
      ]
     },
     "execution_count": 27,
     "metadata": {},
     "output_type": "execute_result"
    }
   ],
   "source": [
    "with open('top-10_parks.png', 'rb') as file:\n",
    "    img = 'data:image/png;base64,' + binascii.b2a_base64(file.read(), newline=False).decode(\"UTF-8\")\n",
    "\n",
    "html_template = '''<html>\n",
    "<head>\n",
    "    <title>Активности по паркам Москвы</title>\n",
    "    <meta charset=\"utf-8\"/>\n",
    "</head>\n",
    "<body>\n",
    "    <h1>Топ-10 парков по активностям</h1>\n",
    "    <img src=\"{{data.image}}\" alt=\"Топ-10 парков по активностям\">\n",
    "    <h2>Таблица активностей</h2>\n",
    "    {{data.table}}\n",
    "</body>\n",
    "</html>'''\n",
    "\n",
    "html = Template(html_template).render(data = {\n",
    "    'image': img,\n",
    "    'table': table.to_html()\n",
    "})\n",
    "\n",
    "config = pdfkit.configuration(wkhtmltopdf='C:/Program Files/wkhtmltopdf/bin/wkhtmltopdf.exe')\n",
    "options = {\n",
    "    'page-size': 'A4',\n",
    "    'header-right': '[page]'\n",
    "}\n",
    "pdfkit.from_string(html, 'actions.pdf',\n",
    "                  configuration=config, options = options)"
   ]
  },
  {
   "cell_type": "markdown",
   "metadata": {},
   "source": [
    "### Задание: автоматические отчеты"
   ]
  },
  {
   "cell_type": "markdown",
   "metadata": {},
   "source": [
    "Соберите отчет по результатам ЕГЭ в 2018-2019 году, используя данные\n",
    "\n",
    "https://video.ittensive.com/python-advanced/data-9722-2019-10-14.utf.csv\n",
    "\n",
    "и отправьте его в HTML формате по адресу support@ittensive.com, используя только Python.\n",
    "\n",
    "В отчете должно быть:\n",
    "\n",
    "общее число отличников (учеников, получивших более 220 баллов по ЕГЭ в Москве),\n",
    "\n",
    "распределение отличников по округам Москвы,\n",
    "\n",
    "название школы с лучшими результатами по ЕГЭ в Москве.\n",
    "\n",
    "Диаграмма распределения должна быть вставлена в HTML через data:URI формат (в base64-кодировке).\n",
    "\n",
    "Дополнительно: приложите к отчету PDF документ того же содержания (дублирующий письмо).\n",
    "\n",
    "Сколько учеников набрало 220 и больше баллов по ЕГЭ в Москве в 2018-2019 году?"
   ]
  },
  {
   "cell_type": "markdown",
   "metadata": {},
   "source": [
    "###############################################################################################################################"
   ]
  },
  {
   "cell_type": "markdown",
   "metadata": {},
   "source": [
    "Импортируем необходимые библиотеки."
   ]
  },
  {
   "cell_type": "code",
   "execution_count": 28,
   "metadata": {},
   "outputs": [],
   "source": [
    "import pandas as pd\n",
    "import matplotlib.pyplot as plt\n",
    "import binascii\n",
    "import pdfkit\n",
    "import smtplib\n",
    "from email import encoders\n",
    "from email.mime.text import MIMEText\n",
    "from email.mime.base import MIMEBase\n",
    "from email.mime.multipart import MIMEMultipart"
   ]
  },
  {
   "cell_type": "markdown",
   "metadata": {},
   "source": [
    "Считываем данные в датафрейм, убираем колонку с отсутствующими значениями, отфильтровываем данные по году."
   ]
  },
  {
   "cell_type": "code",
   "execution_count": 29,
   "metadata": {},
   "outputs": [
    {
     "data": {
      "text/html": [
       "<div>\n",
       "<style scoped>\n",
       "    .dataframe tbody tr th:only-of-type {\n",
       "        vertical-align: middle;\n",
       "    }\n",
       "\n",
       "    .dataframe tbody tr th {\n",
       "        vertical-align: top;\n",
       "    }\n",
       "\n",
       "    .dataframe thead th {\n",
       "        text-align: right;\n",
       "    }\n",
       "</style>\n",
       "<table border=\"1\" class=\"dataframe\">\n",
       "  <thead>\n",
       "    <tr style=\"text-align: right;\">\n",
       "      <th></th>\n",
       "      <th>ID</th>\n",
       "      <th>EDU_NAME</th>\n",
       "      <th>global_id</th>\n",
       "      <th>YEAR</th>\n",
       "      <th>AdmArea</th>\n",
       "      <th>District</th>\n",
       "      <th>PASSES_OVER_220</th>\n",
       "      <th>PASSER_UNDER_160</th>\n",
       "    </tr>\n",
       "  </thead>\n",
       "  <tbody>\n",
       "    <tr>\n",
       "      <th>1498</th>\n",
       "      <td>9734</td>\n",
       "      <td>Государственное бюджетное общеобразовательное ...</td>\n",
       "      <td>1011905064</td>\n",
       "      <td>2018-2019</td>\n",
       "      <td>Восточный административный округ</td>\n",
       "      <td>район Богородское</td>\n",
       "      <td>41</td>\n",
       "      <td>112</td>\n",
       "    </tr>\n",
       "    <tr>\n",
       "      <th>1499</th>\n",
       "      <td>9735</td>\n",
       "      <td>Государственное бюджетное общеобразовательное ...</td>\n",
       "      <td>1011905068</td>\n",
       "      <td>2018-2019</td>\n",
       "      <td>Восточный административный округ</td>\n",
       "      <td>район Метрогородок</td>\n",
       "      <td>12</td>\n",
       "      <td>44</td>\n",
       "    </tr>\n",
       "    <tr>\n",
       "      <th>1500</th>\n",
       "      <td>9736</td>\n",
       "      <td>Государственное бюджетное общеобразовательное ...</td>\n",
       "      <td>1011905069</td>\n",
       "      <td>2018-2019</td>\n",
       "      <td>Восточный административный округ</td>\n",
       "      <td>район Новогиреево</td>\n",
       "      <td>19</td>\n",
       "      <td>37</td>\n",
       "    </tr>\n",
       "    <tr>\n",
       "      <th>1501</th>\n",
       "      <td>9737</td>\n",
       "      <td>Автономная некоммерческая организация средняя ...</td>\n",
       "      <td>1011905070</td>\n",
       "      <td>2018-2019</td>\n",
       "      <td>Восточный административный округ</td>\n",
       "      <td>район Сокольники</td>\n",
       "      <td>1</td>\n",
       "      <td>3</td>\n",
       "    </tr>\n",
       "    <tr>\n",
       "      <th>1502</th>\n",
       "      <td>9738</td>\n",
       "      <td>Государственное бюджетное общеобразовательное ...</td>\n",
       "      <td>1011905071</td>\n",
       "      <td>2018-2019</td>\n",
       "      <td>Западный административный округ</td>\n",
       "      <td>район Крылатское</td>\n",
       "      <td>25</td>\n",
       "      <td>51</td>\n",
       "    </tr>\n",
       "  </tbody>\n",
       "</table>\n",
       "</div>"
      ],
      "text/plain": [
       "        ID                                           EDU_NAME   global_id  \\\n",
       "1498  9734  Государственное бюджетное общеобразовательное ...  1011905064   \n",
       "1499  9735  Государственное бюджетное общеобразовательное ...  1011905068   \n",
       "1500  9736  Государственное бюджетное общеобразовательное ...  1011905069   \n",
       "1501  9737  Автономная некоммерческая организация средняя ...  1011905070   \n",
       "1502  9738  Государственное бюджетное общеобразовательное ...  1011905071   \n",
       "\n",
       "           YEAR                           AdmArea            District  \\\n",
       "1498  2018-2019  Восточный административный округ   район Богородское   \n",
       "1499  2018-2019  Восточный административный округ  район Метрогородок   \n",
       "1500  2018-2019  Восточный административный округ   район Новогиреево   \n",
       "1501  2018-2019  Восточный административный округ    район Сокольники   \n",
       "1502  2018-2019   Западный административный округ    район Крылатское   \n",
       "\n",
       "      PASSES_OVER_220  PASSER_UNDER_160  \n",
       "1498               41               112  \n",
       "1499               12                44  \n",
       "1500               19                37  \n",
       "1501                1                 3  \n",
       "1502               25                51  "
      ]
     },
     "execution_count": 29,
     "metadata": {},
     "output_type": "execute_result"
    }
   ],
   "source": [
    "df = pd.read_csv('https://video.ittensive.com/python-advanced/data-9722-2019-10-14.utf.csv', sep = ';').dropna(axis = 1)\n",
    "df = df[df.YEAR == '2018-2019']\n",
    "df.head()"
   ]
  },
  {
   "cell_type": "markdown",
   "metadata": {},
   "source": [
    "Выводим информацию по датафрейму."
   ]
  },
  {
   "cell_type": "code",
   "execution_count": 30,
   "metadata": {},
   "outputs": [
    {
     "name": "stdout",
     "output_type": "stream",
     "text": [
      "<class 'pandas.core.frame.DataFrame'>\n",
      "Int64Index: 688 entries, 1498 to 2185\n",
      "Data columns (total 8 columns):\n",
      " #   Column            Non-Null Count  Dtype \n",
      "---  ------            --------------  ----- \n",
      " 0   ID                688 non-null    int64 \n",
      " 1   EDU_NAME          688 non-null    object\n",
      " 2   global_id         688 non-null    int64 \n",
      " 3   YEAR              688 non-null    object\n",
      " 4   AdmArea           688 non-null    object\n",
      " 5   District          688 non-null    object\n",
      " 6   PASSES_OVER_220   688 non-null    int64 \n",
      " 7   PASSER_UNDER_160  688 non-null    int64 \n",
      "dtypes: int64(4), object(4)\n",
      "memory usage: 48.4+ KB\n"
     ]
    }
   ],
   "source": [
    "df.info()"
   ]
  },
  {
   "cell_type": "markdown",
   "metadata": {},
   "source": [
    "Сокращаем названия округов."
   ]
  },
  {
   "cell_type": "code",
   "execution_count": 31,
   "metadata": {},
   "outputs": [],
   "source": [
    "df.AdmArea = df.AdmArea.apply(lambda x: x.split()[0])"
   ]
  },
  {
   "cell_type": "markdown",
   "metadata": {},
   "source": [
    "Находим общее количество отличников в 2018-2019 гг."
   ]
  },
  {
   "cell_type": "code",
   "execution_count": 33,
   "metadata": {},
   "outputs": [
    {
     "data": {
      "text/plain": [
       "23368"
      ]
     },
     "execution_count": 33,
     "metadata": {},
     "output_type": "execute_result"
    }
   ],
   "source": [
    "pass_over_220_total = df.PASSES_OVER_220.sum()\n",
    "pass_over_220_total"
   ]
  },
  {
   "cell_type": "markdown",
   "metadata": {},
   "source": [
    "Находим образовательное учреждение с наибольшим количеством отличников."
   ]
  },
  {
   "cell_type": "code",
   "execution_count": 34,
   "metadata": {},
   "outputs": [
    {
     "data": {
      "text/plain": [
       "'Федеральное государственное автономное образовательное учреждение высшего образования «Национальный исследовательский университет» Высшая школа экономики». лицей Национального исследовательского университета» Высшая школа экономики»'"
      ]
     },
     "execution_count": 34,
     "metadata": {},
     "output_type": "execute_result"
    }
   ],
   "source": [
    "best_results = df.PASSES_OVER_220.max()\n",
    "best_school = df[df.PASSES_OVER_220 == best_results]['EDU_NAME'][1737]\n",
    "best_school"
   ]
  },
  {
   "cell_type": "markdown",
   "metadata": {},
   "source": [
    "Группируем данные по округам и создаём серию данных для визуализации."
   ]
  },
  {
   "cell_type": "code",
   "execution_count": 35,
   "metadata": {},
   "outputs": [
    {
     "data": {
      "text/plain": [
       "AdmArea\n",
       "Центральный         4067\n",
       "Западный            2944\n",
       "Юго-Западный        2928\n",
       "Южный               2630\n",
       "Восточный           2150\n",
       "Юго-Восточный       2011\n",
       "Северо-Восточный    1982\n",
       "Северный            1973\n",
       "Северо-Западный     1716\n",
       "Зеленоградский       516\n",
       "Новомосковский       242\n",
       "Троицкий             209\n",
       "Name: PASSES_OVER_220, dtype: int64"
      ]
     },
     "execution_count": 35,
     "metadata": {},
     "output_type": "execute_result"
    }
   ],
   "source": [
    "groupby_area = df.groupby('AdmArea').sum()\n",
    "passes_over_220 = groupby_area.PASSES_OVER_220.sort_values(ascending = False)\n",
    "passes_over_220"
   ]
  },
  {
   "cell_type": "markdown",
   "metadata": {},
   "source": [
    "Создаём свечную диаграмму по серии данных."
   ]
  },
  {
   "cell_type": "code",
   "execution_count": 40,
   "metadata": {},
   "outputs": [
    {
     "data": {
      "image/png": "[encoded data removed]",
      "text/plain": [
       "<Figure size 432x288 with 1 Axes>"
      ]
     },
     "metadata": {
      "needs_background": "light"
     },
     "output_type": "display_data"
    }
   ],
   "source": [
    "passes_over_220.plot(kind='bar')\n",
    "plt.savefig('pass_over_220_by_adm_area.png', bbox_inches=\"tight\")"
   ]
  },
  {
   "cell_type": "markdown",
   "metadata": {},
   "source": [
    "Кодируем png изображение в байт код и создаём html отчёт с заданными данными. Конвертируем отчёт в pdf."
   ]
  },
  {
   "cell_type": "code",
   "execution_count": 41,
   "metadata": {},
   "outputs": [
    {
     "name": "stdout",
     "output_type": "stream",
     "text": [
      "Loading pages (1/6)\r\n",
      "[>                                                           ] 0%\r",
      "[======>                                                     ] 10%\r",
      "[=====================>                                      ] 35%\r",
      "[=========================>                                  ] 43%\r",
      "[============================================================] 100%\r",
      "Counting pages (2/6)                                               \r\n",
      "[============================================================] Object 1 of 1\r",
      "Resolving links (4/6)                                                       \r\n",
      "[============================================================] Object 1 of 1\r",
      "Loading headers and footers (5/6)                                           \r\n",
      "Printing pages (6/6)\r\n",
      "[>                                                           ] Preparing\r",
      "[============================================================] Page 1 of 1\r",
      "Done                                                                      \r\n"
     ]
    },
    {
     "data": {
      "text/plain": [
       "True"
      ]
     },
     "execution_count": 41,
     "metadata": {},
     "output_type": "execute_result"
    }
   ],
   "source": [
    "with open('pass_over_220_by_adm_area.png', 'rb') as file:\n",
    "    img = 'data:image/png;base64,' + binascii.b2a_base64(file.read(), newline=False).decode(\"UTF-8\")\n",
    "html = '''<html>\n",
    "    <head>\n",
    "        <title>Статистика результатов по ЕГЭ в Москве</title>\n",
    "        <meta charset=\"utf-8\">\n",
    "    </head>\n",
    "    <body>\n",
    "    <h1>Общее число отличников в городе Москва:</h1>\n",
    "    <p style='font-size:150%'>''' + str(pass_over_220_total) + '''</p>\n",
    "    <h2>Распределение отличников по округам:</h2>\n",
    "    <p style='font-size:130%'>''' + passes_over_220.to_frame().to_html() +'''</p>\n",
    "    <img src=\"''' + img + '''\" alt=\"Отличники по округам\"/>\n",
    "    <p style='font-size:130%'>Лучшая школа: ''' + best_school + '''</p>\n",
    "    </body>\n",
    "</html>\n",
    "'''\n",
    "\n",
    "config = pdfkit.configuration(wkhtmltopdf=\"C:/Program Files/wkhtmltopdf/bin/wkhtmltopdf.exe\")\n",
    "options = {\n",
    "    'page-size': 'A4',\n",
    "    'header-right': '[page]'\n",
    "}\n",
    "pdfkit.from_string(html, 'gov_exam_stats.pdf', configuration=config, options=options)"
   ]
  },
  {
   "cell_type": "markdown",
   "metadata": {},
   "source": [
    "Создаём заголовки письма, прилагаем данные, открываем соединение с сервером, передаём данные и закрываем соединение."
   ]
  },
  {
   "cell_type": "code",
   "execution_count": 42,
   "metadata": {},
   "outputs": [
    {
     "data": {
      "text/plain": [
       "(221, b'smtp54.i.mail.ru closing connection')"
      ]
     },
     "execution_count": 42,
     "metadata": {},
     "output_type": "execute_result"
    }
   ],
   "source": [
    "letter = MIMEMultipart()\n",
    "letter[\"From\"] = \"XXXXXXX\"\n",
    "letter[\"Subject\"] = \"Отчет по результатам ЕГЭ\"\n",
    "letter[\"Content-Type\"] = \"text/html; charset=utf-8\"\n",
    "letter[\"To\"] = \"support@ittensive.com.com\"\n",
    "letter.attach(MIMEText(html, 'html'))\n",
    "attachement = MIMEBase('application', 'pdf')\n",
    "attachement.set_payload(open('gov_exam_stats.pdf', 'rb').read())            \n",
    "attachement.add_header('Content-Disposition',\n",
    "                      'attachement; filename=\"gov_exam_stats.pdf\"')\n",
    "encoders.encode_base64(attachement)\n",
    "letter.attach(attachement)\n",
    "user = 'XXXXXXX'\n",
    "password = \"XXXXXXX\"\n",
    "server = smtplib.SMTP('smtp.mail.ru', 25)\n",
    "server.ehlo()\n",
    "server.starttls()\n",
    "server.ehlo()\n",
    "server.login(user, password)\n",
    "server.sendmail('XXXXXXX',\n",
    "                'support@ittensive.com',\n",
    "               letter.as_string())\n",
    "server.quit()"
   ]
  }
 ],
 "metadata": {
  "kernelspec": {
   "display_name": "Python 3",
   "language": "python",
   "name": "python3"
  },
  "language_info": {
   "codemirror_mode": {
    "name": "ipython",
    "version": 3
   },
   "file_extension": ".py",
   "mimetype": "text/x-python",
   "name": "python",
   "nbconvert_exporter": "python",
   "pygments_lexer": "ipython3",
   "version": "3.7.6"
  }
 },
 "nbformat": 4,
 "nbformat_minor": 4
}
