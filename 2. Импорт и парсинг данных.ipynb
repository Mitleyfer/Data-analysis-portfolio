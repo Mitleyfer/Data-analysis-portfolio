{
 "cells": [
  {
   "cell_type": "markdown",
   "metadata": {},
   "source": [
    "## Импорт и парсинг данных"
   ]
  },
  {
   "cell_type": "markdown",
   "metadata": {},
   "source": [
    "### Задание: получение данных по API"
   ]
  },
  {
   "cell_type": "markdown",
   "metadata": {},
   "source": [
    "Изучите API Геокодера Яндекса\n",
    "\n",
    "http://tech.yandex.ru/maps/geocoder/doc/desc/concepts/input_params-docpage/\n",
    "\n",
    "и получите ключ API для него в кабинете разработчика.\n",
    "Выполните запрос к API и узнайте долготу точки на карте (Point) для города Самара.\n",
    "Внимание: активация ключа Геокодера Яндекса может занимать несколько часов (до суток)"
   ]
  },
  {
   "cell_type": "markdown",
   "metadata": {},
   "source": [
    "###############################################################################################################################"
   ]
  },
  {
   "cell_type": "markdown",
   "metadata": {},
   "source": [
    "Импортируем библиотеки."
   ]
  },
  {
   "cell_type": "code",
   "execution_count": 3,
   "metadata": {},
   "outputs": [],
   "source": [
    "import requests\n",
    "import json\n",
    "import pandas as pd"
   ]
  },
  {
   "cell_type": "markdown",
   "metadata": {},
   "source": [
    "Создаём запрос к API. В запросе задаём полученный ключ, геоданные и желаемый формат данных. Загружаем данные в датафрейм. "
   ]
  },
  {
   "cell_type": "code",
   "execution_count": 7,
   "metadata": {},
   "outputs": [
    {
     "data": {
      "text/html": [
       "<div>\n",
       "<style scoped>\n",
       "    .dataframe tbody tr th:only-of-type {\n",
       "        vertical-align: middle;\n",
       "    }\n",
       "\n",
       "    .dataframe tbody tr th {\n",
       "        vertical-align: top;\n",
       "    }\n",
       "\n",
       "    .dataframe thead th {\n",
       "        text-align: right;\n",
       "    }\n",
       "</style>\n",
       "<table border=\"1\" class=\"dataframe\">\n",
       "  <thead>\n",
       "    <tr style=\"text-align: right;\">\n",
       "      <th></th>\n",
       "      <th>response</th>\n",
       "    </tr>\n",
       "  </thead>\n",
       "  <tbody>\n",
       "    <tr>\n",
       "      <th>GeoObjectCollection</th>\n",
       "      <td>{'metaDataProperty': {'GeocoderResponseMetaDat...</td>\n",
       "    </tr>\n",
       "  </tbody>\n",
       "</table>\n",
       "</div>"
      ],
      "text/plain": [
       "                                                              response\n",
       "GeoObjectCollection  {'metaDataProperty': {'GeocoderResponseMetaDat..."
      ]
     },
     "execution_count": 7,
     "metadata": {},
     "output_type": "execute_result"
    }
   ],
   "source": [
    "request = requests.get(\"https://geocode-maps.yandex.ru/1.x/?apikey=b5b6c0e2-7cf8-4ff0-aa6d-36293d09197e&geocode=Самара&format=json\")\n",
    "df = pd.DataFrame(json.loads(request.content))\n",
    "df"
   ]
  },
  {
   "cell_type": "markdown",
   "metadata": {},
   "source": [
    "Выбираем в датафрейме нужные нам данные. Координаты указаны в формате 'pos': 'долгота широта'"
   ]
  },
  {
   "cell_type": "code",
   "execution_count": 29,
   "metadata": {},
   "outputs": [
    {
     "data": {
      "text/plain": [
       "{'pos': '50.100193 53.195873'}"
      ]
     },
     "execution_count": 29,
     "metadata": {},
     "output_type": "execute_result"
    }
   ],
   "source": [
    "df.response['GeoObjectCollection']['featureMember'][0]['GeoObject']['Point']"
   ]
  },
  {
   "cell_type": "markdown",
   "metadata": {},
   "source": [
    "### Задание: получение котировок акций"
   ]
  },
  {
   "cell_type": "markdown",
   "metadata": {},
   "source": [
    "Получите данные по котировкам акций со страницы:\n",
    "\n",
    "http://mfd.ru/marketdata/?id=5&group=16&mode=3&sortHeader=name&sortOrder=1&selectedDate=01.11.2019\n",
    "\n",
    "и найдите, по какому тикеру был максимальный рост числа сделок (в процентах) за 1 ноября 2019 года."
   ]
  },
  {
   "cell_type": "markdown",
   "metadata": {},
   "source": [
    "###############################################################################################################################"
   ]
  },
  {
   "cell_type": "markdown",
   "metadata": {},
   "source": [
    "Импортируем библиотеки."
   ]
  },
  {
   "cell_type": "code",
   "execution_count": 62,
   "metadata": {},
   "outputs": [],
   "source": [
    "import requests\n",
    "import pandas as pd\n",
    "from bs4 import BeautifulSoup"
   ]
  },
  {
   "cell_type": "markdown",
   "metadata": {},
   "source": [
    "Создаём запрос к сайту и парсим данные. Для этого ищем теги с таблицами и определёнными id. Создаём список с данными, опуская теги. Затем конвертируем полученные данные в датафрейм, названия колонок берём с сайта."
   ]
  },
  {
   "cell_type": "code",
   "execution_count": 75,
   "metadata": {},
   "outputs": [
    {
     "data": {
      "text/html": [
       "<div>\n",
       "<style scoped>\n",
       "    .dataframe tbody tr th:only-of-type {\n",
       "        vertical-align: middle;\n",
       "    }\n",
       "\n",
       "    .dataframe tbody tr th {\n",
       "        vertical-align: top;\n",
       "    }\n",
       "\n",
       "    .dataframe thead th {\n",
       "        text-align: right;\n",
       "    }\n",
       "</style>\n",
       "<table border=\"1\" class=\"dataframe\">\n",
       "  <thead>\n",
       "    <tr style=\"text-align: right;\">\n",
       "      <th></th>\n",
       "      <th>Тикер</th>\n",
       "      <th>Время</th>\n",
       "      <th>Сделки</th>\n",
       "      <th>C/рост</th>\n",
       "      <th>С/%</th>\n",
       "      <th>Пред закр</th>\n",
       "      <th>Откр</th>\n",
       "      <th>мин</th>\n",
       "      <th>макс</th>\n",
       "      <th>срвзв</th>\n",
       "      <th>шт</th>\n",
       "      <th>руб</th>\n",
       "      <th>Кол-во сделок</th>\n",
       "    </tr>\n",
       "  </thead>\n",
       "  <tbody>\n",
       "    <tr>\n",
       "      <th>0</th>\n",
       "      <td>+МосЭнерго</td>\n",
       "      <td>01.11.2019</td>\n",
       "      <td>2.29</td>\n",
       "      <td>+0.0215</td>\n",
       "      <td>+0.95%</td>\n",
       "      <td>2.2685</td>\n",
       "      <td>2.28</td>\n",
       "      <td>2.268</td>\n",
       "      <td>2.2925</td>\n",
       "      <td>2.281</td>\n",
       "      <td>4 299 000</td>\n",
       "      <td>9 802 392.5</td>\n",
       "      <td>517</td>\n",
       "    </tr>\n",
       "    <tr>\n",
       "      <th>1</th>\n",
       "      <td>AGRO-гдр</td>\n",
       "      <td>01.11.2019</td>\n",
       "      <td>677.4</td>\n",
       "      <td>−4</td>\n",
       "      <td>−0.59%</td>\n",
       "      <td>681.4</td>\n",
       "      <td>681.4</td>\n",
       "      <td>672</td>\n",
       "      <td>687.6</td>\n",
       "      <td>678.2</td>\n",
       "      <td>19 879</td>\n",
       "      <td>13 481 438.4</td>\n",
       "      <td>1 152</td>\n",
       "    </tr>\n",
       "    <tr>\n",
       "      <th>2</th>\n",
       "      <td>ENPL-гдр</td>\n",
       "      <td>01.11.2019</td>\n",
       "      <td>591</td>\n",
       "      <td>+3.6</td>\n",
       "      <td>+0.61%</td>\n",
       "      <td>587.4</td>\n",
       "      <td>590.2</td>\n",
       "      <td>578.2</td>\n",
       "      <td>595</td>\n",
       "      <td>591</td>\n",
       "      <td>90 989</td>\n",
       "      <td>53 760 851.6</td>\n",
       "      <td>605</td>\n",
       "    </tr>\n",
       "    <tr>\n",
       "      <th>3</th>\n",
       "      <td>FIVE-гдр</td>\n",
       "      <td>01.11.2019</td>\n",
       "      <td>2 168</td>\n",
       "      <td>+21</td>\n",
       "      <td>+0.98%</td>\n",
       "      <td>2 147</td>\n",
       "      <td>2 142.5</td>\n",
       "      <td>2 131</td>\n",
       "      <td>2 197</td>\n",
       "      <td>2 169</td>\n",
       "      <td>235 353</td>\n",
       "      <td>510 463 327.5</td>\n",
       "      <td>4 858</td>\n",
       "    </tr>\n",
       "    <tr>\n",
       "      <th>4</th>\n",
       "      <td>FXAU ETF</td>\n",
       "      <td>01.11.2019</td>\n",
       "      <td>1 985</td>\n",
       "      <td>−2</td>\n",
       "      <td>−0.10%</td>\n",
       "      <td>1 987</td>\n",
       "      <td>1 993</td>\n",
       "      <td>1 980</td>\n",
       "      <td>2 000</td>\n",
       "      <td>1 992</td>\n",
       "      <td>490</td>\n",
       "      <td>976 277</td>\n",
       "      <td>99</td>\n",
       "    </tr>\n",
       "  </tbody>\n",
       "</table>\n",
       "</div>"
      ],
      "text/plain": [
       "        Тикер       Время Сделки   C/рост     С/% Пред закр     Откр    мин  \\\n",
       "0  +МосЭнерго  01.11.2019   2.29  +0.0215  +0.95%    2.2685     2.28  2.268   \n",
       "1    AGRO-гдр  01.11.2019  677.4       −4  −0.59%     681.4    681.4    672   \n",
       "2    ENPL-гдр  01.11.2019    591     +3.6  +0.61%     587.4    590.2  578.2   \n",
       "3    FIVE-гдр  01.11.2019  2 168      +21  +0.98%     2 147  2 142.5  2 131   \n",
       "4    FXAU ETF  01.11.2019  1 985       −2  −0.10%     1 987    1 993  1 980   \n",
       "\n",
       "     макс  срвзв         шт            руб Кол-во сделок  \n",
       "0  2.2925  2.281  4 299 000    9 802 392.5           517  \n",
       "1   687.6  678.2     19 879   13 481 438.4         1 152  \n",
       "2     595    591     90 989   53 760 851.6           605  \n",
       "3   2 197  2 169    235 353  510 463 327.5         4 858  \n",
       "4   2 000  1 992        490        976 277            99  "
      ]
     },
     "execution_count": 75,
     "metadata": {},
     "output_type": "execute_result"
    }
   ],
   "source": [
    "request = requests.get('http://mfd.ru/marketdata/?id=5&group=16&mode=3&sortHeader=name&sortOrder=1&selectedDate=01.11.2019')\n",
    "html = BeautifulSoup(request.content)\n",
    "data = []\n",
    "table = html.find('table', {'id':'marketDataList'})\n",
    "for tr in table.find_all('tr'):\n",
    "    data.append([td.get_text(strip = True) for td in tr.find_all('td')])\n",
    "data = pd.DataFrame(data, columns = ['Тикер', 'Время', 'Сделки', 'C/рост', 'С/%', 'Пред закр', 'Откр', 'мин', 'макс', 'срвзв', 'шт', 'руб', 'Кол-во сделок']).dropna(axis = 0).reset_index().drop('index', axis = 1)\n",
    "data.head()"
   ]
  },
  {
   "cell_type": "code",
   "execution_count": 76,
   "metadata": {},
   "outputs": [
    {
     "name": "stdout",
     "output_type": "stream",
     "text": [
      "<class 'pandas.core.frame.DataFrame'>\n",
      "RangeIndex: 371 entries, 0 to 370\n",
      "Data columns (total 13 columns):\n",
      " #   Column         Non-Null Count  Dtype \n",
      "---  ------         --------------  ----- \n",
      " 0   Тикер          371 non-null    object\n",
      " 1   Время          371 non-null    object\n",
      " 2   Сделки         371 non-null    object\n",
      " 3   C/рост         371 non-null    object\n",
      " 4   С/%            371 non-null    object\n",
      " 5   Пред закр      371 non-null    object\n",
      " 6   Откр           371 non-null    object\n",
      " 7   мин            371 non-null    object\n",
      " 8   макс           371 non-null    object\n",
      " 9   срвзв          371 non-null    object\n",
      " 10  шт             371 non-null    object\n",
      " 11  руб            371 non-null    object\n",
      " 12  Кол-во сделок  371 non-null    object\n",
      "dtypes: object(13)\n",
      "memory usage: 37.8+ KB\n"
     ]
    }
   ],
   "source": [
    "data.info()"
   ]
  },
  {
   "cell_type": "markdown",
   "metadata": {},
   "source": [
    "Создаём вспомогательную функцию для изменения типа необходимой нам колонки на float."
   ]
  },
  {
   "cell_type": "code",
   "execution_count": 77,
   "metadata": {},
   "outputs": [],
   "source": [
    "def str_to_float(s):\n",
    "    if '+' in s:\n",
    "        s = float(s[1:-1])\n",
    "    elif '-' in s or '−' in s:\n",
    "        s = -float(s[1:-1])\n",
    "    elif s == '':\n",
    "        s = 0\n",
    "    else:\n",
    "        s = float(s[:-1])\n",
    "    return s\n",
    "data['С/%'] = data['С/%'].apply(str_to_float)"
   ]
  },
  {
   "cell_type": "markdown",
   "metadata": {},
   "source": [
    "Сортируем данные по максимальному росту числа сделок (в процентах) и выводим на экран максимальное значение за 1 ноября 2019 года."
   ]
  },
  {
   "cell_type": "code",
   "execution_count": 80,
   "metadata": {},
   "outputs": [
    {
     "data": {
      "text/html": [
       "<div>\n",
       "<style scoped>\n",
       "    .dataframe tbody tr th:only-of-type {\n",
       "        vertical-align: middle;\n",
       "    }\n",
       "\n",
       "    .dataframe tbody tr th {\n",
       "        vertical-align: top;\n",
       "    }\n",
       "\n",
       "    .dataframe thead th {\n",
       "        text-align: right;\n",
       "    }\n",
       "</style>\n",
       "<table border=\"1\" class=\"dataframe\">\n",
       "  <thead>\n",
       "    <tr style=\"text-align: right;\">\n",
       "      <th></th>\n",
       "      <th>Тикер</th>\n",
       "      <th>Время</th>\n",
       "      <th>Сделки</th>\n",
       "      <th>C/рост</th>\n",
       "      <th>С/%</th>\n",
       "      <th>Пред закр</th>\n",
       "      <th>Откр</th>\n",
       "      <th>мин</th>\n",
       "      <th>макс</th>\n",
       "      <th>срвзв</th>\n",
       "      <th>шт</th>\n",
       "      <th>руб</th>\n",
       "      <th>Кол-во сделок</th>\n",
       "    </tr>\n",
       "  </thead>\n",
       "  <tbody>\n",
       "    <tr>\n",
       "      <th>113</th>\n",
       "      <td>ИКРУСС-ИНВ</td>\n",
       "      <td>01.11.2019</td>\n",
       "      <td>33.3</td>\n",
       "      <td>+3.3</td>\n",
       "      <td>11.0</td>\n",
       "      <td>30</td>\n",
       "      <td>29.9</td>\n",
       "      <td>29.9</td>\n",
       "      <td>36.9</td>\n",
       "      <td>32.2</td>\n",
       "      <td>32 300</td>\n",
       "      <td>1 040 630</td>\n",
       "      <td>168</td>\n",
       "    </tr>\n",
       "  </tbody>\n",
       "</table>\n",
       "</div>"
      ],
      "text/plain": [
       "          Тикер       Время Сделки C/рост   С/% Пред закр  Откр   мин  макс  \\\n",
       "113  ИКРУСС-ИНВ  01.11.2019   33.3   +3.3  11.0        30  29.9  29.9  36.9   \n",
       "\n",
       "    срвзв      шт        руб Кол-во сделок  \n",
       "113  32.2  32 300  1 040 630           168  "
      ]
     },
     "execution_count": 80,
     "metadata": {},
     "output_type": "execute_result"
    }
   ],
   "source": [
    "data.sort_values('С/%', ascending = False).head(1)"
   ]
  },
  {
   "cell_type": "markdown",
   "metadata": {},
   "source": [
    "### Задание: парсинг интернет-магазина"
   ]
  },
  {
   "cell_type": "markdown",
   "metadata": {},
   "source": [
    "Используя парсинг данных с маркетплейса beru.ru, найдите, на сколько литров отличается общий объем холодильников Саратов 263 и Саратов 452?\n",
    "\n",
    "Для парсинга можно использовать зеркало страницы beru.ru с результатами для холодильников Саратов по адресу:\n",
    "\n",
    "http://video.ittensive.com/data/018-python-advanced/beru.ru/\n",
    "\n",
    "На сколько литров отличается общий объем холодильников?"
   ]
  },
  {
   "cell_type": "markdown",
   "metadata": {},
   "source": [
    "###############################################################################################################################"
   ]
  },
  {
   "cell_type": "markdown",
   "metadata": {},
   "source": [
    "Импортируем библиотеки."
   ]
  },
  {
   "cell_type": "code",
   "execution_count": 8,
   "metadata": {},
   "outputs": [],
   "source": [
    "import requests\n",
    "import numpy as np\n",
    "from bs4 import BeautifulSoup"
   ]
  },
  {
   "cell_type": "markdown",
   "metadata": {},
   "source": [
    "Создаём функцию-помощник для нахождения ссылок в html файле по тэгам. Прописываем имя User-Agent для парсера. Делаем запрос к зеркалу страницы. Находим нужные нам ссылки. Создаём ещё два запроса к странице с полученными ссылками. Из полученных ссылок извлекаем данные по объёму холодильников и приводим их к числовому значению. Вычисляем разницу в объемах холодильников."
   ]
  },
  {
   "cell_type": "code",
   "execution_count": 11,
   "metadata": {},
   "outputs": [
    {
     "name": "stdout",
     "output_type": "stream",
     "text": [
      "Количество литров на которые отличается общий объём холодильников: 73\n"
     ]
    }
   ],
   "source": [
    "def find_link(html, tag, _class = None):\n",
    "    links = html.find_all(tag, _class)\n",
    "    return links\n",
    "\n",
    "headers = {'User-Agent': 'ittensive-python-courses/1.0 (+https://www.ittensive.com)'}\n",
    "r = requests.get('http://video.ittensive.com/data/018-python-advanced/beru.ru/', headers=headers)\n",
    "html = BeautifulSoup(r.content)\n",
    "links = find_link(html, 'a', {'class': '_3ioN70chUh Usp3kX1MNT _3Uc73lzxcf'})\n",
    "link_263 = ''\n",
    "link_452 = ''\n",
    "for link in links:\n",
    "    if str(link).find('Саратов 263') > -1:\n",
    "        link_263 = link['href']\n",
    "    if str(link).find('Саратов 452') > -1:\n",
    "        link_452 = link['href']\n",
    "        \n",
    "r_263 = requests.get('http://video.ittensive.com/data/018-python-advanced/beru.ru/' + link_263)\n",
    "r_452 = requests.get('http://video.ittensive.com/data/018-python-advanced/beru.ru/' + link_452)\n",
    "html_263 = BeautifulSoup(r_263.content)\n",
    "html_452 = BeautifulSoup(r_452.content)\n",
    "volume_263_link = find_link(html_263, 'span', {'class': '_112Tad-7AP'})\n",
    "volume_452_link = find_link(html_452, 'span', {'class': '_112Tad-7AP'})\n",
    "volume_263 = int(''.join(i for i in volume_263_link[2].get_text() if i.isdigit()))\n",
    "volume_452 = int(''.join(i for i in volume_452_link[2].get_text() if i.isdigit()))\n",
    "\n",
    "diff = np.maximum(volume_263, volume_452) - np.minimum(volume_263, volume_452)\n",
    "print(f'Количество литров на которые отличается общий объём холодильников: {diff}')"
   ]
  },
  {
   "cell_type": "markdown",
   "metadata": {},
   "source": [
    "### Задание: загрузка результатов в БД"
   ]
  },
  {
   "cell_type": "markdown",
   "metadata": {},
   "source": [
    "Соберите данные о моделях холодильников Саратов с маркетплейса beru.ru: URL, название, цена, размеры, общий объем, объем холодильной камеры.\n",
    "\n",
    "Создайте соответствующие таблицы в SQLite базе данных и загрузите полученные данные в таблицу beru_goods.\n",
    "Для парсинга можно использовать зеркало страницы beru.ru с результатами для холодильников Саратов по адресу:\n",
    "\n",
    "http://video.ittensive.com/data/018-python-advanced/beru.ru/\n",
    "\n",
    "Какая ширина у холодильника Саратов 264 в см?"
   ]
  },
  {
   "cell_type": "markdown",
   "metadata": {},
   "source": [
    "###############################################################################################################################"
   ]
  },
  {
   "cell_type": "markdown",
   "metadata": {},
   "source": [
    "Импортируем необходимые библиотеки."
   ]
  },
  {
   "cell_type": "code",
   "execution_count": 15,
   "metadata": {},
   "outputs": [],
   "source": [
    "import sqlite3\n",
    "import requests\n",
    "from bs4 import BeautifulSoup"
   ]
  },
  {
   "cell_type": "markdown",
   "metadata": {},
   "source": [
    "Создаём вспомогательные функции: для извлечения чисел из текста, для нахождения ссылок по тэгам, для нахождения значений для занесения в базу данных - имя ссылки(link), наименование товара(title), его цена(price), ширина(w), глубина(d), высота(h), объем(v), объём морозильной камеры(f)."
   ]
  },
  {
   "cell_type": "code",
   "execution_count": 16,
   "metadata": {},
   "outputs": [],
   "source": [
    "def find_number(text):\n",
    "    return int(\"0\" + \"\".join(i for i in text if i.isdigit()))\n",
    "\n",
    "def find_link(html, tag, _class = None):\n",
    "    links = html.find_all(tag, _class)\n",
    "    return links\n",
    "\n",
    "def find_info(link):\n",
    "    r = requests.get('http://video.ittensive.com/data/018-python-advanced/beru.ru/' + link)\n",
    "    html = BeautifulSoup(r.content)\n",
    "    title = find_link(html, 'h', {'class': '_3TfWusA7bt'}).get_text()\n",
    "    price = find_number(find_link(html, 'span', {'data-tid': 'c3eaad93'}).get_text())\n",
    "    tags = find_number(html, 'span', {'class': '_112Tad-7AP'})\n",
    "    w, d, h, v, f = 0, 0, 0, 0, 0 \n",
    "    for tag in tags:\n",
    "        tag = tag.get_text()\n",
    "        if tag.find('ШхВхГ') > -1:\n",
    "            dims = tag.split(':')[1].split('х')\n",
    "            w = float(dims[0])\n",
    "            d = float(dims[1])\n",
    "            h = float(dims[2].split(' ')[0])\n",
    "        if tag.find('общий объем') > -1:\n",
    "            v = find_number(tag)\n",
    "        if tag.find('объем холодильной камеры') > -1:\n",
    "            f = find_number(tag)\n",
    "    return [link, title, price, w, d, h, v, f]"
   ]
  },
  {
   "cell_type": "markdown",
   "metadata": {},
   "source": [
    "Создаём запрос к зеркалу страницы. Создаём пустой список для его дальнейшего занесения в базу данных. Ищем ссылки на нужный товар. Подключаемся к базе данных. Создаём таблицу с заданными параметрами и значениями по умолчанию. Передаём данные из списка в созданную таблицу. Выбираем из базы данных холодильник Саратов 264 и выводим на экран его название и объём."
   ]
  },
  {
   "cell_type": "code",
   "execution_count": 17,
   "metadata": {},
   "outputs": [
    {
     "name": "stdout",
     "output_type": "stream",
     "text": [
      "[('Холодильник Саратов 264 (КШД-150/30)', 48.0)]\n"
     ]
    }
   ],
   "source": [
    "r = requests.get('http://video.ittensive.com/data/018-python-advanced/beru.ru/')\n",
    "html = BeautifulSoup(r.content)\n",
    "links = find_link(html, 'a', {'class': '_3ioN70chUh Usp3kX1MNT _3Uc73lzxcf'})\n",
    "data = []\n",
    "for link in links:\n",
    "    if link['href'] and link.get_text().find('Саратов') > -1:\n",
    "        data.append(find_data(link['href']))\n",
    "\n",
    "conn = sqlite3.connect(\"C:/Users/dzerg/Desktop/sqlite/data.db3\")\n",
    "db = conn.cursor()\n",
    "db.execute(\"\"\"DROP TABLE beru_goods\"\"\")\n",
    "db.execute(\"\"\"CREATE TABLE beru_goods\n",
    "            (id INTEGER PRIMARY KEY AUTOINCREMENT not null,\n",
    "            url text,\n",
    "            title text default '',\n",
    "            price INTEGER default 0,\n",
    "            width FLOAT default 0.0,\n",
    "            depth FLOAT default 0.0,\n",
    "            height FLOAT default 0.0,\n",
    "            volume INTEGER default 0,\n",
    "            freezer INTEGER default 0)\"\"\")\n",
    "conn.commit()\n",
    "db.executemany(\"\"\"INSERT INTO beru_goods (url, title, price, width, depth, height, volume, freezer)\n",
    "           VALUES (?, ?, ?, ?, ?, ?, ?, ?)\"\"\", data)\n",
    "conn.commit()\n",
    "print (db.execute(\"SELECT title, width FROM beru_goods WHERE title = 'Холодильник Саратов 264 (КШД-150/30)'\").fetchall())\n",
    "db.close()"
   ]
  }
 ],
 "metadata": {
  "kernelspec": {
   "display_name": "Python 3",
   "language": "python",
   "name": "python3"
  },
  "language_info": {
   "codemirror_mode": {
    "name": "ipython",
    "version": 3
   },
   "file_extension": ".py",
   "mimetype": "text/x-python",
   "name": "python",
   "nbconvert_exporter": "python",
   "pygments_lexer": "ipython3",
   "version": "3.7.6"
  }
 },
 "nbformat": 4,
 "nbformat_minor": 4
}
