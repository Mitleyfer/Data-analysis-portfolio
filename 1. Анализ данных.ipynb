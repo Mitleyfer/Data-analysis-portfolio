{
 "cells": [
  {
   "cell_type": "markdown",
   "metadata": {},
   "source": [
    "## Анализ данных"
   ]
  },
  {
   "cell_type": "markdown",
   "metadata": {},
   "source": [
    "### Задание: импорт данных"
   ]
  },
  {
   "cell_type": "markdown",
   "metadata": {},
   "source": [
    "Возьмите данные по вызовам пожарных служб в Москве за 2015-2019 годы: https://video.ittensive.com/python-advanced/data-5283-2019-10-04.utf.csv Получите из них фрейм данных (таблицу значений). По этому фрейму вычислите среднее значение вызовов пожарных машин в месяц в одном округе Москвы, округлив до целых.\n",
    "\n",
    "Примечание: найдите среднее значение вызовов, без учета года."
   ]
  },
  {
   "cell_type": "markdown",
   "metadata": {},
   "source": [
    "###############################################################################################################################"
   ]
  },
  {
   "cell_type": "markdown",
   "metadata": {},
   "source": [
    "Импортируем pandas и считываем файл в датафрейм. Убираем колонку со значениями NaN."
   ]
  },
  {
   "cell_type": "code",
   "execution_count": 1,
   "metadata": {},
   "outputs": [
    {
     "data": {
      "text/html": [
       "<div>\n",
       "<style scoped>\n",
       "    .dataframe tbody tr th:only-of-type {\n",
       "        vertical-align: middle;\n",
       "    }\n",
       "\n",
       "    .dataframe tbody tr th {\n",
       "        vertical-align: top;\n",
       "    }\n",
       "\n",
       "    .dataframe thead th {\n",
       "        text-align: right;\n",
       "    }\n",
       "</style>\n",
       "<table border=\"1\" class=\"dataframe\">\n",
       "  <thead>\n",
       "    <tr style=\"text-align: right;\">\n",
       "      <th></th>\n",
       "      <th>AdmArea</th>\n",
       "      <th>Year</th>\n",
       "      <th>global_id</th>\n",
       "      <th>Month</th>\n",
       "      <th>Calls</th>\n",
       "    </tr>\n",
       "    <tr>\n",
       "      <th>ID</th>\n",
       "      <th></th>\n",
       "      <th></th>\n",
       "      <th></th>\n",
       "      <th></th>\n",
       "      <th></th>\n",
       "    </tr>\n",
       "  </thead>\n",
       "  <tbody>\n",
       "    <tr>\n",
       "      <th>1</th>\n",
       "      <td>Центральный административный округ</td>\n",
       "      <td>2015</td>\n",
       "      <td>37153160</td>\n",
       "      <td>Январь</td>\n",
       "      <td>408</td>\n",
       "    </tr>\n",
       "    <tr>\n",
       "      <th>2</th>\n",
       "      <td>Северный административный округ</td>\n",
       "      <td>2015</td>\n",
       "      <td>37153161</td>\n",
       "      <td>Январь</td>\n",
       "      <td>408</td>\n",
       "    </tr>\n",
       "    <tr>\n",
       "      <th>3</th>\n",
       "      <td>Северо-Восточный административный округ</td>\n",
       "      <td>2015</td>\n",
       "      <td>37153162</td>\n",
       "      <td>Январь</td>\n",
       "      <td>445</td>\n",
       "    </tr>\n",
       "    <tr>\n",
       "      <th>4</th>\n",
       "      <td>Восточный административный округ</td>\n",
       "      <td>2015</td>\n",
       "      <td>37153163</td>\n",
       "      <td>Январь</td>\n",
       "      <td>619</td>\n",
       "    </tr>\n",
       "    <tr>\n",
       "      <th>5</th>\n",
       "      <td>Юго-Восточный административный округ</td>\n",
       "      <td>2015</td>\n",
       "      <td>37153164</td>\n",
       "      <td>Январь</td>\n",
       "      <td>541</td>\n",
       "    </tr>\n",
       "  </tbody>\n",
       "</table>\n",
       "</div>"
      ],
      "text/plain": [
       "                                    AdmArea  Year  global_id   Month  Calls\n",
       "ID                                                                         \n",
       "1        Центральный административный округ  2015   37153160  Январь    408\n",
       "2           Северный административный округ  2015   37153161  Январь    408\n",
       "3   Северо-Восточный административный округ  2015   37153162  Январь    445\n",
       "4          Восточный административный округ  2015   37153163  Январь    619\n",
       "5      Юго-Восточный административный округ  2015   37153164  Январь    541"
      ]
     },
     "execution_count": 1,
     "metadata": {},
     "output_type": "execute_result"
    }
   ],
   "source": [
    "import pandas as pd\n",
    "df = pd.read_csv('https://video.ittensive.com/python-advanced/data-5283-2019-10-04.utf.csv', \n",
    "                  sep = ';', index_col = 'ID').drop(['Unnamed: 6'], axis = 1)\n",
    "df.head()"
   ]
  },
  {
   "cell_type": "markdown",
   "metadata": {},
   "source": [
    "Смотрим статистику по данным. Колонка с вызовами соответствует нужному типу данных."
   ]
  },
  {
   "cell_type": "code",
   "execution_count": 2,
   "metadata": {},
   "outputs": [
    {
     "name": "stdout",
     "output_type": "stream",
     "text": [
      "<class 'pandas.core.frame.DataFrame'>\n",
      "Int64Index: 627 entries, 1 to 627\n",
      "Data columns (total 5 columns):\n",
      " #   Column     Non-Null Count  Dtype \n",
      "---  ------     --------------  ----- \n",
      " 0   AdmArea    627 non-null    object\n",
      " 1   Year       627 non-null    int64 \n",
      " 2   global_id  627 non-null    int64 \n",
      " 3   Month      627 non-null    object\n",
      " 4   Calls      627 non-null    int64 \n",
      "dtypes: int64(3), object(2)\n",
      "memory usage: 29.4+ KB\n"
     ]
    }
   ],
   "source": [
    "df.info()"
   ]
  },
  {
   "cell_type": "markdown",
   "metadata": {},
   "source": [
    "Дропаем ненужные колонки и группируем данные по округам и месяцам."
   ]
  },
  {
   "cell_type": "code",
   "execution_count": 3,
   "metadata": {},
   "outputs": [
    {
     "data": {
      "text/html": [
       "<div>\n",
       "<style scoped>\n",
       "    .dataframe tbody tr th:only-of-type {\n",
       "        vertical-align: middle;\n",
       "    }\n",
       "\n",
       "    .dataframe tbody tr th {\n",
       "        vertical-align: top;\n",
       "    }\n",
       "\n",
       "    .dataframe thead th {\n",
       "        text-align: right;\n",
       "    }\n",
       "</style>\n",
       "<table border=\"1\" class=\"dataframe\">\n",
       "  <thead>\n",
       "    <tr style=\"text-align: right;\">\n",
       "      <th></th>\n",
       "      <th></th>\n",
       "      <th>Calls</th>\n",
       "    </tr>\n",
       "    <tr>\n",
       "      <th>AdmArea</th>\n",
       "      <th>Month</th>\n",
       "      <th></th>\n",
       "    </tr>\n",
       "  </thead>\n",
       "  <tbody>\n",
       "    <tr>\n",
       "      <th rowspan=\"5\" valign=\"top\">Восточный административный округ</th>\n",
       "      <th>Август</th>\n",
       "      <td>690.75</td>\n",
       "    </tr>\n",
       "    <tr>\n",
       "      <th>Апрель</th>\n",
       "      <td>801.40</td>\n",
       "    </tr>\n",
       "    <tr>\n",
       "      <th>Декабрь</th>\n",
       "      <td>665.50</td>\n",
       "    </tr>\n",
       "    <tr>\n",
       "      <th>Июль</th>\n",
       "      <td>574.00</td>\n",
       "    </tr>\n",
       "    <tr>\n",
       "      <th>Июнь</th>\n",
       "      <td>635.60</td>\n",
       "    </tr>\n",
       "    <tr>\n",
       "      <th>...</th>\n",
       "      <th>...</th>\n",
       "      <td>...</td>\n",
       "    </tr>\n",
       "    <tr>\n",
       "      <th rowspan=\"4\" valign=\"top\">Южный административный округ</th>\n",
       "      <th>Февраль</th>\n",
       "      <td>613.50</td>\n",
       "    </tr>\n",
       "    <tr>\n",
       "      <th>Январь</th>\n",
       "      <td>617.60</td>\n",
       "    </tr>\n",
       "    <tr>\n",
       "      <th>август</th>\n",
       "      <td>445.00</td>\n",
       "    </tr>\n",
       "    <tr>\n",
       "      <th>сентябрь</th>\n",
       "      <td>401.00</td>\n",
       "    </tr>\n",
       "    <tr>\n",
       "      <th>Южный административный округ</th>\n",
       "      <th>Февраль</th>\n",
       "      <td>617.00</td>\n",
       "    </tr>\n",
       "  </tbody>\n",
       "</table>\n",
       "<p>182 rows × 1 columns</p>\n",
       "</div>"
      ],
      "text/plain": [
       "                                            Calls\n",
       "AdmArea                          Month           \n",
       "Восточный административный округ Август    690.75\n",
       "                                 Апрель    801.40\n",
       "                                 Декабрь   665.50\n",
       "                                 Июль      574.00\n",
       "                                 Июнь      635.60\n",
       "...                                           ...\n",
       "Южный административный округ     Февраль   613.50\n",
       "                                 Январь    617.60\n",
       "                                 август    445.00\n",
       "                                 сентябрь  401.00\n",
       "Южный административный округ     Февраль   617.00\n",
       "\n",
       "[182 rows x 1 columns]"
      ]
     },
     "execution_count": 3,
     "metadata": {},
     "output_type": "execute_result"
    }
   ],
   "source": [
    "df_groupby = df.drop(['Year', 'global_id'], axis = 1)\n",
    "df_groupby.groupby(['AdmArea', 'Month']).mean()"
   ]
  },
  {
   "cell_type": "markdown",
   "metadata": {},
   "source": [
    "Получаем нужный нам ответ."
   ]
  },
  {
   "cell_type": "code",
   "execution_count": 4,
   "metadata": {},
   "outputs": [
    {
     "data": {
      "text/plain": [
       "493"
      ]
     },
     "execution_count": 4,
     "metadata": {},
     "output_type": "execute_result"
    }
   ],
   "source": [
    "int(df.Calls.mean().round())"
   ]
  },
  {
   "cell_type": "markdown",
   "metadata": {},
   "source": [
    "### Задание: данные из нескольких источников"
   ]
  },
  {
   "cell_type": "markdown",
   "metadata": {},
   "source": [
    "Получите данные по безработице в Москве:\n",
    "\n",
    "https://video.ittensive.com/python-advanced/data-9753-2019-07-25.utf.csv\n",
    "\n",
    "Объедините эти данные индексами (Месяц/Год) с данными из предыдущего задания (вызовы пожарных) для Центральный административный округ:\n",
    "\n",
    "https://video.ittensive.com/python-advanced/data-5283-2019-10-04.utf.csv\n",
    "\n",
    "Найдите значение поля UnemployedMen в том месяце, когда было меньше всего вызовов в Центральном административном округе."
   ]
  },
  {
   "cell_type": "markdown",
   "metadata": {},
   "source": [
    "###############################################################################################################################"
   ]
  },
  {
   "cell_type": "markdown",
   "metadata": {},
   "source": [
    "Импортируем библиотеки. Загружаем данные в датафрейм, приводим их к единому индексу и убираем колонки с NaN."
   ]
  },
  {
   "cell_type": "code",
   "execution_count": 5,
   "metadata": {},
   "outputs": [
    {
     "name": "stdout",
     "output_type": "stream",
     "text": [
      "                                             AdmArea  global_id  Calls\n",
      "Month  Year                                                           \n",
      "Январь 2015       Центральный административный округ   37153160    408\n",
      "       2015          Северный административный округ   37153161    408\n",
      "       2015  Северо-Восточный административный округ   37153162    445\n",
      "       2015         Восточный административный округ   37153163    619\n",
      "       2015     Юго-Восточный административный округ   37153164    541\n",
      "              global_id  ID  UnemployedMen  UnemployedWomen  UnemployedYoung  \\\n",
      "Month   Year                                                                   \n",
      "Декабрь 2001   39809862   1           8896            25762             6696   \n",
      "        2003   64592413   3           8679            24967             6226   \n",
      "        2004   64592414   4           9822            25239             7318   \n",
      "        2005   64592415   5          10844            23597             6890   \n",
      "        2006   64592416   6          11041            22928             6604   \n",
      "\n",
      "              UnemployedDisabled  UnemployedTotal  \n",
      "Month   Year                                       \n",
      "Декабрь 2001                 824            34658  \n",
      "        2003                1155            33646  \n",
      "        2004                1411            35061  \n",
      "        2005                1531            34441  \n",
      "        2006                1671            33969  \n"
     ]
    }
   ],
   "source": [
    "import pandas as pd\n",
    "\n",
    "df_unemployed = pd.read_csv('https://video.ittensive.com/python-advanced/data-9753-2019-07-25.utf.csv', \n",
    "                            sep = ';').drop(['Unnamed: 9'], axis = 1)\n",
    "df_unemployed.rename(columns = {'Period': 'Month'}, inplace = True)\n",
    "df_unemployed = df_unemployed.set_index(['Month', 'Year'])\n",
    "df_fireman = pd.read_csv('https://video.ittensive.com/python-advanced/data-5283-2019-10-04.utf.csv',\n",
    "                          sep = ';', index_col = ['Month', 'Year']).drop(['ID', 'Unnamed: 6'], axis = 1)\n",
    "print(df_fireman.head())\n",
    "print(df_unemployed.head())"
   ]
  },
  {
   "cell_type": "markdown",
   "metadata": {},
   "source": [
    "Соединяем датафреймы по индексу."
   ]
  },
  {
   "cell_type": "code",
   "execution_count": 6,
   "metadata": {},
   "outputs": [
    {
     "data": {
      "text/html": [
       "<div>\n",
       "<style scoped>\n",
       "    .dataframe tbody tr th:only-of-type {\n",
       "        vertical-align: middle;\n",
       "    }\n",
       "\n",
       "    .dataframe tbody tr th {\n",
       "        vertical-align: top;\n",
       "    }\n",
       "\n",
       "    .dataframe thead th {\n",
       "        text-align: right;\n",
       "    }\n",
       "</style>\n",
       "<table border=\"1\" class=\"dataframe\">\n",
       "  <thead>\n",
       "    <tr style=\"text-align: right;\">\n",
       "      <th></th>\n",
       "      <th></th>\n",
       "      <th>global_id_x</th>\n",
       "      <th>ID</th>\n",
       "      <th>UnemployedMen</th>\n",
       "      <th>UnemployedWomen</th>\n",
       "      <th>UnemployedYoung</th>\n",
       "      <th>UnemployedDisabled</th>\n",
       "      <th>UnemployedTotal</th>\n",
       "      <th>AdmArea</th>\n",
       "      <th>global_id_y</th>\n",
       "      <th>Calls</th>\n",
       "    </tr>\n",
       "    <tr>\n",
       "      <th>Month</th>\n",
       "      <th>Year</th>\n",
       "      <th></th>\n",
       "      <th></th>\n",
       "      <th></th>\n",
       "      <th></th>\n",
       "      <th></th>\n",
       "      <th></th>\n",
       "      <th></th>\n",
       "      <th></th>\n",
       "      <th></th>\n",
       "      <th></th>\n",
       "    </tr>\n",
       "  </thead>\n",
       "  <tbody>\n",
       "    <tr>\n",
       "      <th rowspan=\"5\" valign=\"top\">Август</th>\n",
       "      <th>2015</th>\n",
       "      <td>273573620</td>\n",
       "      <td>58</td>\n",
       "      <td>15232</td>\n",
       "      <td>19966</td>\n",
       "      <td>5312</td>\n",
       "      <td>996</td>\n",
       "      <td>35198</td>\n",
       "      <td>Центральный административный округ</td>\n",
       "      <td>37153238</td>\n",
       "      <td>385</td>\n",
       "    </tr>\n",
       "    <tr>\n",
       "      <th>2015</th>\n",
       "      <td>273573620</td>\n",
       "      <td>58</td>\n",
       "      <td>15232</td>\n",
       "      <td>19966</td>\n",
       "      <td>5312</td>\n",
       "      <td>996</td>\n",
       "      <td>35198</td>\n",
       "      <td>Северный административный округ</td>\n",
       "      <td>37153239</td>\n",
       "      <td>374</td>\n",
       "    </tr>\n",
       "    <tr>\n",
       "      <th>2015</th>\n",
       "      <td>273573620</td>\n",
       "      <td>58</td>\n",
       "      <td>15232</td>\n",
       "      <td>19966</td>\n",
       "      <td>5312</td>\n",
       "      <td>996</td>\n",
       "      <td>35198</td>\n",
       "      <td>Северо-Восточный административный округ</td>\n",
       "      <td>37153240</td>\n",
       "      <td>461</td>\n",
       "    </tr>\n",
       "    <tr>\n",
       "      <th>2015</th>\n",
       "      <td>273573620</td>\n",
       "      <td>58</td>\n",
       "      <td>15232</td>\n",
       "      <td>19966</td>\n",
       "      <td>5312</td>\n",
       "      <td>996</td>\n",
       "      <td>35198</td>\n",
       "      <td>Восточный административный округ</td>\n",
       "      <td>37153241</td>\n",
       "      <td>600</td>\n",
       "    </tr>\n",
       "    <tr>\n",
       "      <th>2015</th>\n",
       "      <td>273573620</td>\n",
       "      <td>58</td>\n",
       "      <td>15232</td>\n",
       "      <td>19966</td>\n",
       "      <td>5312</td>\n",
       "      <td>996</td>\n",
       "      <td>35198</td>\n",
       "      <td>Юго-Восточный административный округ</td>\n",
       "      <td>37153242</td>\n",
       "      <td>507</td>\n",
       "    </tr>\n",
       "  </tbody>\n",
       "</table>\n",
       "</div>"
      ],
      "text/plain": [
       "             global_id_x  ID  UnemployedMen  UnemployedWomen  UnemployedYoung  \\\n",
       "Month  Year                                                                     \n",
       "Август 2015    273573620  58          15232            19966             5312   \n",
       "       2015    273573620  58          15232            19966             5312   \n",
       "       2015    273573620  58          15232            19966             5312   \n",
       "       2015    273573620  58          15232            19966             5312   \n",
       "       2015    273573620  58          15232            19966             5312   \n",
       "\n",
       "             UnemployedDisabled  UnemployedTotal  \\\n",
       "Month  Year                                        \n",
       "Август 2015                 996            35198   \n",
       "       2015                 996            35198   \n",
       "       2015                 996            35198   \n",
       "       2015                 996            35198   \n",
       "       2015                 996            35198   \n",
       "\n",
       "                                             AdmArea  global_id_y  Calls  \n",
       "Month  Year                                                               \n",
       "Август 2015       Центральный административный округ     37153238    385  \n",
       "       2015          Северный административный округ     37153239    374  \n",
       "       2015  Северо-Восточный административный округ     37153240    461  \n",
       "       2015         Восточный административный округ     37153241    600  \n",
       "       2015     Юго-Восточный административный округ     37153242    507  "
      ]
     },
     "execution_count": 6,
     "metadata": {},
     "output_type": "execute_result"
    }
   ],
   "source": [
    "df = pd.merge(df_unemployed, df_fireman, left_index = True, right_index = True)\n",
    "df.head()"
   ]
  },
  {
   "cell_type": "markdown",
   "metadata": {},
   "source": [
    "Находим нужный нам ответ."
   ]
  },
  {
   "cell_type": "code",
   "execution_count": 9,
   "metadata": {},
   "outputs": [
    {
     "name": "stdout",
     "output_type": "stream",
     "text": [
      "[13465]\n"
     ]
    }
   ],
   "source": [
    "df_central = df[df['AdmArea'] == 'Центральный административный округ']\n",
    "print(df_central.loc[df_central.Calls == df_central.Calls.min()]['UnemployedMen'].values)"
   ]
  },
  {
   "cell_type": "markdown",
   "metadata": {},
   "source": [
    "### Задание: выделение данных"
   ]
  },
  {
   "cell_type": "markdown",
   "metadata": {},
   "source": [
    "Получите данные по безработице в Москве:\n",
    "\n",
    "https://video.ittensive.com/python-advanced/data-9753-2019-07-25.utf.csv\n",
    "\n",
    "Найдите, с какого года процент людей с ограниченными возможностями (UnemployedDisabled) среди всех безработных (UnemployedTotal) стал меньше 2%."
   ]
  },
  {
   "cell_type": "markdown",
   "metadata": {},
   "source": [
    "###############################################################################################################################"
   ]
  },
  {
   "cell_type": "markdown",
   "metadata": {},
   "source": [
    "Импортируем pandas, загружаем данные в датафрейм, убираем колонку со значениями NaN."
   ]
  },
  {
   "cell_type": "code",
   "execution_count": 4,
   "metadata": {},
   "outputs": [
    {
     "data": {
      "text/html": [
       "<div>\n",
       "<style scoped>\n",
       "    .dataframe tbody tr th:only-of-type {\n",
       "        vertical-align: middle;\n",
       "    }\n",
       "\n",
       "    .dataframe tbody tr th {\n",
       "        vertical-align: top;\n",
       "    }\n",
       "\n",
       "    .dataframe thead th {\n",
       "        text-align: right;\n",
       "    }\n",
       "</style>\n",
       "<table border=\"1\" class=\"dataframe\">\n",
       "  <thead>\n",
       "    <tr style=\"text-align: right;\">\n",
       "      <th></th>\n",
       "      <th>global_id</th>\n",
       "      <th>Year</th>\n",
       "      <th>UnemployedMen</th>\n",
       "      <th>UnemployedWomen</th>\n",
       "      <th>UnemployedYoung</th>\n",
       "      <th>UnemployedDisabled</th>\n",
       "      <th>UnemployedTotal</th>\n",
       "      <th>Period</th>\n",
       "    </tr>\n",
       "    <tr>\n",
       "      <th>ID</th>\n",
       "      <th></th>\n",
       "      <th></th>\n",
       "      <th></th>\n",
       "      <th></th>\n",
       "      <th></th>\n",
       "      <th></th>\n",
       "      <th></th>\n",
       "      <th></th>\n",
       "    </tr>\n",
       "  </thead>\n",
       "  <tbody>\n",
       "    <tr>\n",
       "      <th>1</th>\n",
       "      <td>39809862</td>\n",
       "      <td>2001</td>\n",
       "      <td>8896</td>\n",
       "      <td>25762</td>\n",
       "      <td>6696</td>\n",
       "      <td>824</td>\n",
       "      <td>34658</td>\n",
       "      <td>Декабрь</td>\n",
       "    </tr>\n",
       "    <tr>\n",
       "      <th>3</th>\n",
       "      <td>64592413</td>\n",
       "      <td>2003</td>\n",
       "      <td>8679</td>\n",
       "      <td>24967</td>\n",
       "      <td>6226</td>\n",
       "      <td>1155</td>\n",
       "      <td>33646</td>\n",
       "      <td>Декабрь</td>\n",
       "    </tr>\n",
       "    <tr>\n",
       "      <th>4</th>\n",
       "      <td>64592414</td>\n",
       "      <td>2004</td>\n",
       "      <td>9822</td>\n",
       "      <td>25239</td>\n",
       "      <td>7318</td>\n",
       "      <td>1411</td>\n",
       "      <td>35061</td>\n",
       "      <td>Декабрь</td>\n",
       "    </tr>\n",
       "    <tr>\n",
       "      <th>5</th>\n",
       "      <td>64592415</td>\n",
       "      <td>2005</td>\n",
       "      <td>10844</td>\n",
       "      <td>23597</td>\n",
       "      <td>6890</td>\n",
       "      <td>1531</td>\n",
       "      <td>34441</td>\n",
       "      <td>Декабрь</td>\n",
       "    </tr>\n",
       "    <tr>\n",
       "      <th>6</th>\n",
       "      <td>64592416</td>\n",
       "      <td>2006</td>\n",
       "      <td>11041</td>\n",
       "      <td>22928</td>\n",
       "      <td>6604</td>\n",
       "      <td>1671</td>\n",
       "      <td>33969</td>\n",
       "      <td>Декабрь</td>\n",
       "    </tr>\n",
       "  </tbody>\n",
       "</table>\n",
       "</div>"
      ],
      "text/plain": [
       "    global_id  Year  UnemployedMen  UnemployedWomen  UnemployedYoung  \\\n",
       "ID                                                                     \n",
       "1    39809862  2001           8896            25762             6696   \n",
       "3    64592413  2003           8679            24967             6226   \n",
       "4    64592414  2004           9822            25239             7318   \n",
       "5    64592415  2005          10844            23597             6890   \n",
       "6    64592416  2006          11041            22928             6604   \n",
       "\n",
       "    UnemployedDisabled  UnemployedTotal   Period  \n",
       "ID                                                \n",
       "1                  824            34658  Декабрь  \n",
       "3                 1155            33646  Декабрь  \n",
       "4                 1411            35061  Декабрь  \n",
       "5                 1531            34441  Декабрь  \n",
       "6                 1671            33969  Декабрь  "
      ]
     },
     "execution_count": 4,
     "metadata": {},
     "output_type": "execute_result"
    }
   ],
   "source": [
    "import pandas as pd\n",
    "\n",
    "df = pd.read_csv('https://video.ittensive.com/python-advanced/data-9753-2019-07-25.utf.csv', \n",
    "                  sep = ';', index_col = 'ID').drop(['Unnamed: 9'], axis = 1)\n",
    "df.head()"
   ]
  },
  {
   "cell_type": "markdown",
   "metadata": {},
   "source": [
    "Фильтруем данные по проценту людей с ограниченными возможностями среди всех безработных."
   ]
  },
  {
   "cell_type": "code",
   "execution_count": 5,
   "metadata": {},
   "outputs": [
    {
     "data": {
      "text/html": [
       "<div>\n",
       "<style scoped>\n",
       "    .dataframe tbody tr th:only-of-type {\n",
       "        vertical-align: middle;\n",
       "    }\n",
       "\n",
       "    .dataframe tbody tr th {\n",
       "        vertical-align: top;\n",
       "    }\n",
       "\n",
       "    .dataframe thead th {\n",
       "        text-align: right;\n",
       "    }\n",
       "</style>\n",
       "<table border=\"1\" class=\"dataframe\">\n",
       "  <thead>\n",
       "    <tr style=\"text-align: right;\">\n",
       "      <th></th>\n",
       "      <th>global_id</th>\n",
       "      <th>Year</th>\n",
       "      <th>UnemployedMen</th>\n",
       "      <th>UnemployedWomen</th>\n",
       "      <th>UnemployedYoung</th>\n",
       "      <th>UnemployedDisabled</th>\n",
       "      <th>UnemployedTotal</th>\n",
       "      <th>Period</th>\n",
       "    </tr>\n",
       "    <tr>\n",
       "      <th>ID</th>\n",
       "      <th></th>\n",
       "      <th></th>\n",
       "      <th></th>\n",
       "      <th></th>\n",
       "      <th></th>\n",
       "      <th></th>\n",
       "      <th></th>\n",
       "      <th></th>\n",
       "    </tr>\n",
       "  </thead>\n",
       "  <tbody>\n",
       "    <tr>\n",
       "      <th>96</th>\n",
       "      <td>894075540</td>\n",
       "      <td>2018</td>\n",
       "      <td>10651</td>\n",
       "      <td>14043</td>\n",
       "      <td>2829</td>\n",
       "      <td>472</td>\n",
       "      <td>24694</td>\n",
       "      <td>Сентябрь</td>\n",
       "    </tr>\n",
       "    <tr>\n",
       "      <th>97</th>\n",
       "      <td>896740236</td>\n",
       "      <td>2018</td>\n",
       "      <td>10763</td>\n",
       "      <td>14375</td>\n",
       "      <td>2892</td>\n",
       "      <td>477</td>\n",
       "      <td>25138</td>\n",
       "      <td>Октябрь</td>\n",
       "    </tr>\n",
       "    <tr>\n",
       "      <th>98</th>\n",
       "      <td>904345746</td>\n",
       "      <td>2018</td>\n",
       "      <td>11080</td>\n",
       "      <td>14610</td>\n",
       "      <td>2911</td>\n",
       "      <td>467</td>\n",
       "      <td>25690</td>\n",
       "      <td>Ноябрь</td>\n",
       "    </tr>\n",
       "    <tr>\n",
       "      <th>99</th>\n",
       "      <td>909303094</td>\n",
       "      <td>2018</td>\n",
       "      <td>12063</td>\n",
       "      <td>15815</td>\n",
       "      <td>3077</td>\n",
       "      <td>527</td>\n",
       "      <td>27878</td>\n",
       "      <td>Декабрь</td>\n",
       "    </tr>\n",
       "    <tr>\n",
       "      <th>100</th>\n",
       "      <td>918869065</td>\n",
       "      <td>2019</td>\n",
       "      <td>12225</td>\n",
       "      <td>16078</td>\n",
       "      <td>2960</td>\n",
       "      <td>533</td>\n",
       "      <td>28303</td>\n",
       "      <td>Январь</td>\n",
       "    </tr>\n",
       "    <tr>\n",
       "      <th>101</th>\n",
       "      <td>918869066</td>\n",
       "      <td>2019</td>\n",
       "      <td>13123</td>\n",
       "      <td>16904</td>\n",
       "      <td>3103</td>\n",
       "      <td>575</td>\n",
       "      <td>30027</td>\n",
       "      <td>Февраль</td>\n",
       "    </tr>\n",
       "    <tr>\n",
       "      <th>102</th>\n",
       "      <td>918869067</td>\n",
       "      <td>2019</td>\n",
       "      <td>13433</td>\n",
       "      <td>17164</td>\n",
       "      <td>3102</td>\n",
       "      <td>593</td>\n",
       "      <td>30597</td>\n",
       "      <td>Март</td>\n",
       "    </tr>\n",
       "    <tr>\n",
       "      <th>103</th>\n",
       "      <td>926094627</td>\n",
       "      <td>2019</td>\n",
       "      <td>13803</td>\n",
       "      <td>17319</td>\n",
       "      <td>3060</td>\n",
       "      <td>593</td>\n",
       "      <td>31122</td>\n",
       "      <td>Апрель</td>\n",
       "    </tr>\n",
       "    <tr>\n",
       "      <th>104</th>\n",
       "      <td>933200250</td>\n",
       "      <td>2019</td>\n",
       "      <td>12818</td>\n",
       "      <td>16221</td>\n",
       "      <td>2711</td>\n",
       "      <td>577</td>\n",
       "      <td>29039</td>\n",
       "      <td>Май</td>\n",
       "    </tr>\n",
       "  </tbody>\n",
       "</table>\n",
       "</div>"
      ],
      "text/plain": [
       "     global_id  Year  UnemployedMen  UnemployedWomen  UnemployedYoung  \\\n",
       "ID                                                                      \n",
       "96   894075540  2018          10651            14043             2829   \n",
       "97   896740236  2018          10763            14375             2892   \n",
       "98   904345746  2018          11080            14610             2911   \n",
       "99   909303094  2018          12063            15815             3077   \n",
       "100  918869065  2019          12225            16078             2960   \n",
       "101  918869066  2019          13123            16904             3103   \n",
       "102  918869067  2019          13433            17164             3102   \n",
       "103  926094627  2019          13803            17319             3060   \n",
       "104  933200250  2019          12818            16221             2711   \n",
       "\n",
       "     UnemployedDisabled  UnemployedTotal    Period  \n",
       "ID                                                  \n",
       "96                  472            24694  Сентябрь  \n",
       "97                  477            25138   Октябрь  \n",
       "98                  467            25690    Ноябрь  \n",
       "99                  527            27878   Декабрь  \n",
       "100                 533            28303    Январь  \n",
       "101                 575            30027   Февраль  \n",
       "102                 593            30597      Март  \n",
       "103                 593            31122    Апрель  \n",
       "104                 577            29039       Май  "
      ]
     },
     "execution_count": 5,
     "metadata": {},
     "output_type": "execute_result"
    }
   ],
   "source": [
    "df[df['UnemployedDisabled'] < 0.02 * df['UnemployedTotal']]"
   ]
  },
  {
   "cell_type": "markdown",
   "metadata": {},
   "source": [
    "Ответ: с сентября 2018 года."
   ]
  },
  {
   "cell_type": "markdown",
   "metadata": {},
   "source": [
    "### Задание: предсказание на 2020 год"
   ]
  },
  {
   "cell_type": "markdown",
   "metadata": {},
   "source": [
    "Возьмите данные по безработице в городе Москва:\n",
    "\n",
    "https://video.ittensive.com/python-advanced/data-9753-2019-07-25.utf.csv\n",
    "\n",
    "Сгруппируйте данные по годам, и, если в году меньше 6 значений, отбросьте эти годы.\n",
    "Постройте модель линейной регрессии по годам среднего значения отношения UnemployedDisabled к UnemployedTotal (процента людей с ограниченными возможностями) за месяц и ответьте, какое ожидается значение процента безработных инвалидов в 2020 году при сохранении текущей политики города Москвы?\n",
    "\n",
    "Ответ округлите до сотых. Например, 2,32"
   ]
  },
  {
   "cell_type": "markdown",
   "metadata": {},
   "source": [
    "###############################################################################################################################"
   ]
  },
  {
   "cell_type": "markdown",
   "metadata": {},
   "source": [
    "Импортируем необходимые библиотеки."
   ]
  },
  {
   "cell_type": "code",
   "execution_count": 25,
   "metadata": {},
   "outputs": [],
   "source": [
    "import pandas as pd\n",
    "import numpy as np\n",
    "from sklearn.linear_model import LinearRegression"
   ]
  },
  {
   "cell_type": "markdown",
   "metadata": {},
   "source": [
    "Загружаем данные в датафрейм, создаём колонку с процентом людей с ограниченными возможностями от всех безработных."
   ]
  },
  {
   "cell_type": "code",
   "execution_count": 26,
   "metadata": {},
   "outputs": [
    {
     "data": {
      "text/html": [
       "<div>\n",
       "<style scoped>\n",
       "    .dataframe tbody tr th:only-of-type {\n",
       "        vertical-align: middle;\n",
       "    }\n",
       "\n",
       "    .dataframe tbody tr th {\n",
       "        vertical-align: top;\n",
       "    }\n",
       "\n",
       "    .dataframe thead th {\n",
       "        text-align: right;\n",
       "    }\n",
       "</style>\n",
       "<table border=\"1\" class=\"dataframe\">\n",
       "  <thead>\n",
       "    <tr style=\"text-align: right;\">\n",
       "      <th></th>\n",
       "      <th>global_id</th>\n",
       "      <th>ID</th>\n",
       "      <th>Year</th>\n",
       "      <th>UnemployedMen</th>\n",
       "      <th>UnemployedWomen</th>\n",
       "      <th>UnemployedYoung</th>\n",
       "      <th>UnemployedDisabled</th>\n",
       "      <th>UnemployedTotal</th>\n",
       "      <th>Period</th>\n",
       "      <th>UnempDisabPerc</th>\n",
       "    </tr>\n",
       "  </thead>\n",
       "  <tbody>\n",
       "    <tr>\n",
       "      <th>0</th>\n",
       "      <td>39809862</td>\n",
       "      <td>1</td>\n",
       "      <td>2001</td>\n",
       "      <td>8896</td>\n",
       "      <td>25762</td>\n",
       "      <td>6696</td>\n",
       "      <td>824</td>\n",
       "      <td>34658</td>\n",
       "      <td>Декабрь</td>\n",
       "      <td>2.377517</td>\n",
       "    </tr>\n",
       "    <tr>\n",
       "      <th>1</th>\n",
       "      <td>64592413</td>\n",
       "      <td>3</td>\n",
       "      <td>2003</td>\n",
       "      <td>8679</td>\n",
       "      <td>24967</td>\n",
       "      <td>6226</td>\n",
       "      <td>1155</td>\n",
       "      <td>33646</td>\n",
       "      <td>Декабрь</td>\n",
       "      <td>3.432800</td>\n",
       "    </tr>\n",
       "    <tr>\n",
       "      <th>2</th>\n",
       "      <td>64592414</td>\n",
       "      <td>4</td>\n",
       "      <td>2004</td>\n",
       "      <td>9822</td>\n",
       "      <td>25239</td>\n",
       "      <td>7318</td>\n",
       "      <td>1411</td>\n",
       "      <td>35061</td>\n",
       "      <td>Декабрь</td>\n",
       "      <td>4.024415</td>\n",
       "    </tr>\n",
       "    <tr>\n",
       "      <th>3</th>\n",
       "      <td>64592415</td>\n",
       "      <td>5</td>\n",
       "      <td>2005</td>\n",
       "      <td>10844</td>\n",
       "      <td>23597</td>\n",
       "      <td>6890</td>\n",
       "      <td>1531</td>\n",
       "      <td>34441</td>\n",
       "      <td>Декабрь</td>\n",
       "      <td>4.445283</td>\n",
       "    </tr>\n",
       "    <tr>\n",
       "      <th>4</th>\n",
       "      <td>64592416</td>\n",
       "      <td>6</td>\n",
       "      <td>2006</td>\n",
       "      <td>11041</td>\n",
       "      <td>22928</td>\n",
       "      <td>6604</td>\n",
       "      <td>1671</td>\n",
       "      <td>33969</td>\n",
       "      <td>Декабрь</td>\n",
       "      <td>4.919191</td>\n",
       "    </tr>\n",
       "  </tbody>\n",
       "</table>\n",
       "</div>"
      ],
      "text/plain": [
       "   global_id  ID  Year  UnemployedMen  UnemployedWomen  UnemployedYoung  \\\n",
       "0   39809862   1  2001           8896            25762             6696   \n",
       "1   64592413   3  2003           8679            24967             6226   \n",
       "2   64592414   4  2004           9822            25239             7318   \n",
       "3   64592415   5  2005          10844            23597             6890   \n",
       "4   64592416   6  2006          11041            22928             6604   \n",
       "\n",
       "   UnemployedDisabled  UnemployedTotal   Period  UnempDisabPerc  \n",
       "0                 824            34658  Декабрь        2.377517  \n",
       "1                1155            33646  Декабрь        3.432800  \n",
       "2                1411            35061  Декабрь        4.024415  \n",
       "3                1531            34441  Декабрь        4.445283  \n",
       "4                1671            33969  Декабрь        4.919191  "
      ]
     },
     "execution_count": 26,
     "metadata": {},
     "output_type": "execute_result"
    }
   ],
   "source": [
    "data = pd.read_csv(\"https://video.ittensive.com/python-advanced/data-9753-2019-07-25.utf.csv\", sep=\";\").dropna(axis = 1)\n",
    "data['UnempDisabPerc'] = 100 * data[\"UnemployedDisabled\"] / data[\"UnemployedTotal\"]\n",
    "data.head()"
   ]
  },
  {
   "cell_type": "markdown",
   "metadata": {},
   "source": [
    "Группируем данные по году, отфильтровывая их по количеству записей."
   ]
  },
  {
   "cell_type": "code",
   "execution_count": 27,
   "metadata": {},
   "outputs": [
    {
     "data": {
      "text/html": [
       "<div>\n",
       "<style scoped>\n",
       "    .dataframe tbody tr th:only-of-type {\n",
       "        vertical-align: middle;\n",
       "    }\n",
       "\n",
       "    .dataframe tbody tr th {\n",
       "        vertical-align: top;\n",
       "    }\n",
       "\n",
       "    .dataframe thead th {\n",
       "        text-align: right;\n",
       "    }\n",
       "</style>\n",
       "<table border=\"1\" class=\"dataframe\">\n",
       "  <thead>\n",
       "    <tr style=\"text-align: right;\">\n",
       "      <th></th>\n",
       "      <th>global_id</th>\n",
       "      <th>ID</th>\n",
       "      <th>UnemployedMen</th>\n",
       "      <th>UnemployedWomen</th>\n",
       "      <th>UnemployedYoung</th>\n",
       "      <th>UnemployedDisabled</th>\n",
       "      <th>UnemployedTotal</th>\n",
       "      <th>UnempDisabPerc</th>\n",
       "    </tr>\n",
       "    <tr>\n",
       "      <th>Year</th>\n",
       "      <th></th>\n",
       "      <th></th>\n",
       "      <th></th>\n",
       "      <th></th>\n",
       "      <th></th>\n",
       "      <th></th>\n",
       "      <th></th>\n",
       "      <th></th>\n",
       "    </tr>\n",
       "  </thead>\n",
       "  <tbody>\n",
       "    <tr>\n",
       "      <th>2012</th>\n",
       "      <td>2.561585e+08</td>\n",
       "      <td>17.5</td>\n",
       "      <td>14505.333333</td>\n",
       "      <td>19315.25</td>\n",
       "      <td>4909.250000</td>\n",
       "      <td>1393.916667</td>\n",
       "      <td>33820.583333</td>\n",
       "      <td>4.122145</td>\n",
       "    </tr>\n",
       "    <tr>\n",
       "      <th>2013</th>\n",
       "      <td>2.735736e+08</td>\n",
       "      <td>30.5</td>\n",
       "      <td>10719.416667</td>\n",
       "      <td>15306.50</td>\n",
       "      <td>3388.666667</td>\n",
       "      <td>1047.416667</td>\n",
       "      <td>26025.916667</td>\n",
       "      <td>4.031303</td>\n",
       "    </tr>\n",
       "    <tr>\n",
       "      <th>2014</th>\n",
       "      <td>2.735736e+08</td>\n",
       "      <td>43.5</td>\n",
       "      <td>10271.666667</td>\n",
       "      <td>14361.50</td>\n",
       "      <td>3239.833333</td>\n",
       "      <td>990.500000</td>\n",
       "      <td>24633.166667</td>\n",
       "      <td>4.025994</td>\n",
       "    </tr>\n",
       "    <tr>\n",
       "      <th>2015</th>\n",
       "      <td>2.735736e+08</td>\n",
       "      <td>56.5</td>\n",
       "      <td>15142.666667</td>\n",
       "      <td>20273.25</td>\n",
       "      <td>5363.000000</td>\n",
       "      <td>1020.583333</td>\n",
       "      <td>35415.916667</td>\n",
       "      <td>2.903958</td>\n",
       "    </tr>\n",
       "    <tr>\n",
       "      <th>2016</th>\n",
       "      <td>2.763927e+08</td>\n",
       "      <td>69.5</td>\n",
       "      <td>18417.666667</td>\n",
       "      <td>23349.75</td>\n",
       "      <td>5856.916667</td>\n",
       "      <td>1205.166667</td>\n",
       "      <td>41767.416667</td>\n",
       "      <td>2.890474</td>\n",
       "    </tr>\n",
       "  </tbody>\n",
       "</table>\n",
       "</div>"
      ],
      "text/plain": [
       "         global_id    ID  UnemployedMen  UnemployedWomen  UnemployedYoung  \\\n",
       "Year                                                                        \n",
       "2012  2.561585e+08  17.5   14505.333333         19315.25      4909.250000   \n",
       "2013  2.735736e+08  30.5   10719.416667         15306.50      3388.666667   \n",
       "2014  2.735736e+08  43.5   10271.666667         14361.50      3239.833333   \n",
       "2015  2.735736e+08  56.5   15142.666667         20273.25      5363.000000   \n",
       "2016  2.763927e+08  69.5   18417.666667         23349.75      5856.916667   \n",
       "\n",
       "      UnemployedDisabled  UnemployedTotal  UnempDisabPerc  \n",
       "Year                                                       \n",
       "2012         1393.916667     33820.583333        4.122145  \n",
       "2013         1047.416667     26025.916667        4.031303  \n",
       "2014          990.500000     24633.166667        4.025994  \n",
       "2015         1020.583333     35415.916667        2.903958  \n",
       "2016         1205.166667     41767.416667        2.890474  "
      ]
     },
     "execution_count": 27,
     "metadata": {},
     "output_type": "execute_result"
    }
   ],
   "source": [
    "groupby_year = data.groupby('Year').filter(lambda x: x['UnempDisabPerc'].count() > 5)\n",
    "groupby_year = groupby_year.groupby(\"Year\").mean()\n",
    "groupby_year.head()"
   ]
  },
  {
   "cell_type": "markdown",
   "metadata": {},
   "source": [
    "Меняем размерность данных, приводя их к виду, в котором они могут быть использованы для обучения модели. Объявляем модель линейной регрессии, обучаем модель и делаем предсказание."
   ]
  },
  {
   "cell_type": "code",
   "execution_count": 28,
   "metadata": {},
   "outputs": [
    {
     "name": "stdout",
     "output_type": "stream",
     "text": [
      "[[1.52]]\n"
     ]
    }
   ],
   "source": [
    "X = np.array(groupby_year.index).reshape(len(groupby_year.index), 1)\n",
    "y = np.array(groupby_year['UnempDisabPerc']).reshape(len(groupby_year.index), 1)\n",
    "model = LinearRegression()\n",
    "model.fit(X, y)\n",
    "print(np.round(model.predict(np.array(2020).reshape(1, 1)), 2))"
   ]
  }
 ],
 "metadata": {
  "kernelspec": {
   "display_name": "Python 3",
   "language": "python",
   "name": "python3"
  },
  "language_info": {
   "codemirror_mode": {
    "name": "ipython",
    "version": 3
   },
   "file_extension": ".py",
   "mimetype": "text/x-python",
   "name": "python",
   "nbconvert_exporter": "python",
   "pygments_lexer": "ipython3",
   "version": "3.7.6"
  }
 },
 "nbformat": 4,
 "nbformat_minor": 4
}
